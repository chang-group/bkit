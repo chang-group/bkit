{
 "cells": [
  {
   "cell_type": "code",
   "execution_count": 1,
   "metadata": {},
   "outputs": [],
   "source": [
    "%matplotlib ipympl\n",
    "\n",
    "import bkit\n",
    "import joblib\n",
    "import matplotlib.pyplot as plt\n",
    "import numpy as np"
   ]
  },
  {
   "cell_type": "code",
   "execution_count": 2,
   "metadata": {},
   "outputs": [],
   "source": [
    "def figure():\n",
    "    if plt.gcf():\n",
    "        plt.close(plt.gcf())\n",
    "    return plt.figure()"
   ]
  },
  {
   "cell_type": "code",
   "execution_count": 3,
   "metadata": {},
   "outputs": [],
   "source": [
    "x = joblib.load('/data/p38a-SB2/short_md/path1/x.joblib')"
   ]
  },
  {
   "cell_type": "code",
   "execution_count": 7,
   "metadata": {},
   "outputs": [
    {
     "data": {
      "application/vnd.jupyter.widget-view+json": {
       "model_id": "b746ea337c514848b021b351bf25c347",
       "version_major": 2,
       "version_minor": 0
      },
      "text/plain": [
       "Canvas(toolbar=Toolbar(toolitems=[('Home', 'Reset original view', 'home', 'home'), ('Back', 'Back to previous …"
      ]
     },
     "metadata": {},
     "output_type": "display_data"
    }
   ],
   "source": [
    "a = []\n",
    "for b in x.values():\n",
    "    a.append(b)\n",
    "a = np.concatenate(a)\n",
    "\n",
    "figure()\n",
    "\n",
    "n, bins, _ = plt.hist(a, 1000, density=True, histtype='step')\n",
    "plt.ylabel('Empirical Density')\n",
    "_ = plt.xlabel('Reaction Coordinate ($\\mathrm{\\AA}$)')"
   ]
  },
  {
   "cell_type": "code",
   "execution_count": 70,
   "metadata": {},
   "outputs": [
    {
     "data": {
      "application/vnd.jupyter.widget-view+json": {
       "model_id": "b3879892d79b4171a905fdc75e176ca5",
       "version_major": 2,
       "version_minor": 0
      },
      "text/plain": [
       "Canvas(toolbar=Toolbar(toolitems=[('Home', 'Reset original view', 'home', 'home'), ('Back', 'Back to previous …"
      ]
     },
     "metadata": {},
     "output_type": "display_data"
    }
   ],
   "source": [
    "fig()\n",
    "\n",
    "_, bins, _ = plt.hist(a[0::1000], 50, density=True, histtype='step')\n",
    "plt.hist(a[499::1000], bins, density=True, histtype='step')\n",
    "plt.hist(a[999::1000], bins, density=True, histtype='step')\n",
    "_ = plt.xlabel('Reaction Coordinate ($\\mathrm{\\AA}$)')"
   ]
  },
  {
   "cell_type": "code",
   "execution_count": 94,
   "metadata": {},
   "outputs": [
    {
     "data": {
      "application/vnd.jupyter.widget-view+json": {
       "model_id": "aa974b8a2b444bb6a2be110500dcd6b3",
       "version_major": 2,
       "version_minor": 0
      },
      "text/plain": [
       "Canvas(toolbar=Toolbar(toolitems=[('Home', 'Reset original view', 'home', 'home'), ('Back', 'Back to previous …"
      ]
     },
     "metadata": {},
     "output_type": "display_data"
    }
   ],
   "source": [
    "a = []\n",
    "b = []\n",
    "for v in x.values():\n",
    "    a.append(v[0::100])\n",
    "    b.append(v[99::100])\n",
    "a = np.concatenate(a)\n",
    "b = np.concatenate(b)\n",
    "\n",
    "fig()\n",
    "\n",
    "n, bins, _ = plt.hist(a, 100, density=True, histtype='step')\n",
    "_ = plt.hist(b, bins, density=True, histtype='step')"
   ]
  },
  {
   "cell_type": "code",
   "execution_count": null,
   "metadata": {},
   "outputs": [],
   "source": []
  }
 ],
 "metadata": {
  "kernelspec": {
   "display_name": "Python 3",
   "language": "python",
   "name": "python3"
  },
  "language_info": {
   "codemirror_mode": {
    "name": "ipython",
    "version": 3
   },
   "file_extension": ".py",
   "mimetype": "text/x-python",
   "name": "python",
   "nbconvert_exporter": "python",
   "pygments_lexer": "ipython3",
   "version": "3.7.7"
  }
 },
 "nbformat": 4,
 "nbformat_minor": 4
}
