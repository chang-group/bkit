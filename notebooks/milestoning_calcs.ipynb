{
 "cells": [
  {
   "cell_type": "markdown",
   "metadata": {},
   "source": [
    "# Calculating unbinding free energy and mean first passage time using milestoning\n",
    "\n",
    "In this notebook I will walk oyu through:<br/>\n",
    "1. Project metadynamics trajectories into PCs (review Milestoning_Generate.ipynb)\n",
    "2. Use the previously milestones, and project short MD trajectories into PCs.\n",
    "3. Construct transition kernel matrix (this is the heart of the milestoning theory)\n",
    "4. Generate potential of mean force profile along milestones, and calculate $\\Delta G$\n",
    "5. Calculate mean first passage time \n",
    "6. Collect initial-point distribution (IPD) and first hitting point distribution (FHPD) on the milestone\n",
    "7. Extract representative frames of the milestones."
   ]
  },
  {
   "cell_type": "code",
   "execution_count": 1,
   "metadata": {},
   "outputs": [],
   "source": [
    "%matplotlib ipympl\n",
    "\n",
    "import bkit\n",
    "import pytraj as pt\n",
    "from sklearn.decomposition import PCA\n",
    "import joblib\n",
    "import matplotlib as mpl\n",
    "import matplotlib.pyplot as plt\n",
    "import numpy as np\n",
    "import pandas as pd\n",
    "import os"
   ]
  },
  {
   "cell_type": "markdown",
   "metadata": {},
   "source": [
    "# 1. Obtaining milestones from biased MD or PSIM (optional)\n",
    "This section is repeating Milestoning_Generate.ipynb, and you might skip it if you want (although it's relatively cheap step, and it helps you to make sure that everything is right before other steps). It depends on you. However, do remember to modify all the pathes and parameters in 1.1, which will be used to other sections."
   ]
  },
  {
   "cell_type": "markdown",
   "metadata": {},
   "source": [
    "## 1.1 Load metadynamics/PSIM trajectories to the notebook\n",
    "In order to project high dimensional trajectories into low dimensional spaces, we start by loading the Cartesian coordinates of protein and ligand using **pytraj**."
   ]
  },
  {
   "cell_type": "code",
   "execution_count": 14,
   "metadata": {},
   "outputs": [],
   "source": [
    "base_dir = '/data/CDK8CycC-PL3/'\n",
    "\n",
    "os.chdir(base_dir)\n",
    "\n",
    "milestone_path = 'Milestone_0/'\n",
    "projection_path = 'short_md/'\n",
    "\n",
    "T = 1000 # number of frames of each short MD simulation"
   ]
  },
  {
   "cell_type": "code",
   "execution_count": 3,
   "metadata": {},
   "outputs": [],
   "source": [
    "pca = joblib.load('pca.joblib')"
   ]
  },
  {
   "cell_type": "markdown",
   "metadata": {},
   "source": [
    "## 1.6 Load Previously Constructed Milestones"
   ]
  },
  {
   "cell_type": "markdown",
   "metadata": {},
   "source": [
    "### load centers of milestones"
   ]
  },
  {
   "cell_type": "code",
   "execution_count": 5,
   "metadata": {
    "scrolled": false
   },
   "outputs": [
    {
     "data": {
      "text/plain": [
       "(100, 2)"
      ]
     },
     "execution_count": 5,
     "metadata": {},
     "output_type": "execute_result"
    }
   ],
   "source": [
    "path = pd.read_csv(milestone_path+'/finalpath.txt', header=None, delimiter=r\"\\s+\") # provide a file name of milesstone coordinates\n",
    "fp = np.asarray(path)\n",
    "fp = fp[:,1:3]\n",
    "fp.shape"
   ]
  },
  {
   "cell_type": "markdown",
   "metadata": {},
   "source": [
    "### load slopes of milestones"
   ]
  },
  {
   "cell_type": "code",
   "execution_count": 7,
   "metadata": {
    "scrolled": true
   },
   "outputs": [
    {
     "data": {
      "text/plain": [
       "(100, 1)"
      ]
     },
     "execution_count": 7,
     "metadata": {},
     "output_type": "execute_result"
    }
   ],
   "source": [
    "slope_opt = np.load(milestone_path+'/milestone_slopes.npy') # provide a correct file name of milestone slopes\n",
    "slope_opt.shape"
   ]
  },
  {
   "cell_type": "markdown",
   "metadata": {},
   "source": [
    "### To collect transition between milestone, we first add additional milestones at the front and the end of the original milestone set *(unnecessary)*"
   ]
  },
  {
   "cell_type": "code",
   "execution_count": 9,
   "metadata": {},
   "outputs": [
    {
     "data": {
      "text/plain": [
       "(102, 2)"
      ]
     },
     "execution_count": 9,
     "metadata": {},
     "output_type": "execute_result"
    }
   ],
   "source": [
    "fp_head = fp[0] + (fp[0]-fp[1])\n",
    "fp_tail = fp[-1] + (fp[-1]-fp[-2])\n",
    "fp_mod = np.append(fp_head.reshape(1,2), fp, axis=0)\n",
    "fp_mod = np.append(fp_mod, fp_tail.reshape(1,2), axis=0)\n",
    "fp_mod.shape"
   ]
  },
  {
   "cell_type": "code",
   "execution_count": 10,
   "metadata": {},
   "outputs": [
    {
     "data": {
      "text/plain": [
       "(102, 1)"
      ]
     },
     "execution_count": 10,
     "metadata": {},
     "output_type": "execute_result"
    }
   ],
   "source": [
    "slope_mod = np.append(slope_opt[0], slope_opt)\n",
    "slope_mod = np.append(slope_mod, slope_opt[-1])\n",
    "slope_mod = slope_mod.reshape(len(slope_mod),1)\n",
    "slope_mod.shape"
   ]
  },
  {
   "cell_type": "markdown",
   "metadata": {},
   "source": [
    "### rebuild optimized milestones"
   ]
  },
  {
   "cell_type": "code",
   "execution_count": 12,
   "metadata": {},
   "outputs": [],
   "source": [
    "# radiaus = sc/2\n",
    "sc = 20 \n",
    "\n",
    "# coordinates of milestones on the path\n",
    "X = fp_mod[:,0].reshape(len(fp_mod),1)\n",
    "Y = fp_mod[:,1].reshape(len(fp_mod),1)\n",
    "\n",
    "# slope matrix NxN\n",
    "M = np.zeros((len(slope_mod),len(slope_mod)))\n",
    "np.fill_diagonal(M,slope_mod)\n",
    "\n",
    "# boundary of milestones in x-axis Nx1\n",
    "dX = np.sqrt((sc/2)**2/(1+slope_mod**2)).reshape(len(fp_mod),1)\n",
    "Xp = X + dX\n",
    "Xn = X - dX\n",
    "\n",
    "# boundary of milestones in y-axis Nx1\n",
    "Yp = Y + np.dot(M,dX)\n",
    "Yn = Y - np.dot(M,dX)\n",
    "bkit.CorrectXYnp(Xp,Yp,Xn,Yn, slope_mod)"
   ]
  },
  {
   "cell_type": "markdown",
   "metadata": {},
   "source": [
    "### Visualize previously built milestones"
   ]
  },
  {
   "cell_type": "code",
   "execution_count": 13,
   "metadata": {},
   "outputs": [
    {
     "data": {
      "application/vnd.jupyter.widget-view+json": {
       "model_id": "eabe78fec756438aa57ed2ddf85344ec",
       "version_major": 2,
       "version_minor": 0
      },
      "text/plain": [
       "Canvas(toolbar=Toolbar(toolitems=[('Home', 'Reset original view', 'home', 'home'), ('Back', 'Back to previous …"
      ]
     },
     "metadata": {},
     "output_type": "display_data"
    }
   ],
   "source": [
    "plt.figure(figsize=(7,5))\n",
    "plt.scatter(X, Y, c='magenta',s=5, label='final path')\n",
    "\n",
    "for i in range(len(X)):\n",
    "    if i==0:\n",
    "        plt.plot([Xn[i,0], Xp[i,0]],[Yn[i,0], Yp[i,0]],'-',\n",
    "             color='black', linewidth=0.5,label='initial milestones')\n",
    "    else:\n",
    "        plt.plot([Xn[i,0], Xp[i,0]],[Yn[i,0], Yp[i,0]],\n",
    "                 '-',color='black', linewidth=0.5)\n",
    "        if i%10==0:\n",
    "            plt.annotate(i, (1.5*(Xn[i]-X[i])+X[i],1.5*(Yn[i]-Y[i])+Y[i]),\n",
    "                        **dict(size=12, color='r'))\n",
    "plt.legend(fontsize=16)\n",
    "plt.xlabel('PC1', fontsize=16)\n",
    "plt.ylabel('PC2',fontsize=16)\n",
    "plt.tick_params()\n",
    "plt.show()"
   ]
  },
  {
   "cell_type": "markdown",
   "metadata": {},
   "source": [
    "# 2. Project short MD trajectories to PC1/PC2 space"
   ]
  },
  {
   "cell_type": "markdown",
   "metadata": {},
   "source": [
    "## 2.1: Use the provided Project2PCA.py script to generate projections of short MD trajectories\n",
    "Please use Project2PCA.py to generate projections."
   ]
  },
  {
   "cell_type": "markdown",
   "metadata": {},
   "source": [
    "## 2.2: Load generated projections"
   ]
  },
  {
   "cell_type": "code",
   "execution_count": 15,
   "metadata": {},
   "outputs": [],
   "source": [
    "pca1, pca2 = [projection_path+'/PCA1a.npy',\n",
    "                   projection_path+'/PCA2a.npy'\n",
    "                  ]\n",
    "PCA1 = np.load(pca1)\n",
    "PCA2 = np.load(pca2)"
   ]
  },
  {
   "cell_type": "markdown",
   "metadata": {},
   "source": [
    "#### visualize the projections in PC1/PC2 space"
   ]
  },
  {
   "cell_type": "code",
   "execution_count": 17,
   "metadata": {},
   "outputs": [
    {
     "data": {
      "application/vnd.jupyter.widget-view+json": {
       "model_id": "732e9e919d254cada4200e692b7de02b",
       "version_major": 2,
       "version_minor": 0
      },
      "text/plain": [
       "Canvas(toolbar=Toolbar(toolitems=[('Home', 'Reset original view', 'home', 'home'), ('Back', 'Back to previous …"
      ]
     },
     "metadata": {},
     "output_type": "display_data"
    }
   ],
   "source": [
    "spacing=10\n",
    "\n",
    "plt.figure(figsize=(8,6))\n",
    "plt.plot(PCA1[::spacing], PCA2[::spacing],\n",
    "         color = 'gray', marker='o', \n",
    "         markersize=1, linestyle='None', zorder=0)\n",
    "\n",
    "plt.scatter(X, Y, c='magenta',s=5, zorder=1)\n",
    "\n",
    "for i in range(len(X)):\n",
    "    if i==0:\n",
    "        plt.plot([Xn[i,0], Xp[i,0]],[Yn[i,0], Yp[i,0]],'-',\n",
    "             color='black', linewidth=0.5,label='initial milestones')\n",
    "    else:\n",
    "        plt.plot([Xn[i,0], Xp[i,0]],[Yn[i,0], Yp[i,0]],\n",
    "                 '-',color='black', linewidth=0.5)\n",
    "        if i%10==0:\n",
    "            plt.annotate(i, (1.5*(Xn[i]-X[i])+X[i],1.5*(Yn[i]-Y[i])+Y[i]),\n",
    "                        **dict(size=12, color='r'))\n",
    "\n",
    "plt.xlabel('PC1')\n",
    "plt.ylabel('PC2')\n",
    "plt.show()"
   ]
  },
  {
   "cell_type": "markdown",
   "metadata": {},
   "source": [
    "## 2.3 Sort short MD frames into different milestone cells"
   ]
  },
  {
   "cell_type": "markdown",
   "metadata": {},
   "source": [
    "#### run index search and save cell index of each frame"
   ]
  },
  {
   "cell_type": "code",
   "execution_count": 18,
   "metadata": {},
   "outputs": [
    {
     "data": {
      "application/vnd.jupyter.widget-view+json": {
       "model_id": "aba92ef588614e07ac2b9dbeb6a62c89",
       "version_major": 2,
       "version_minor": 0
      },
      "text/plain": [
       "VBox(children=(HTML(value=''), IntProgress(value=0, max=101)))"
      ]
     },
     "metadata": {},
     "output_type": "display_data"
    },
    {
     "data": {
      "text/plain": [
       "(12020000,)"
      ]
     },
     "execution_count": 18,
     "metadata": {},
     "output_type": "execute_result"
    }
   ],
   "source": [
    "MIDX = bkit.SortByMilestones(Xp, Xn, Yp, Yn, PCA1, PCA2)\n",
    "MIDX.shape"
   ]
  },
  {
   "cell_type": "markdown",
   "metadata": {},
   "source": [
    "#### save cell index of each frame"
   ]
  },
  {
   "cell_type": "code",
   "execution_count": 19,
   "metadata": {},
   "outputs": [],
   "source": [
    "np.save(milestone_path+'/MIDX.npy', MIDX)"
   ]
  },
  {
   "cell_type": "markdown",
   "metadata": {},
   "source": [
    "#### load cell index"
   ]
  },
  {
   "cell_type": "code",
   "execution_count": 20,
   "metadata": {},
   "outputs": [
    {
     "data": {
      "text/plain": [
       "(12020000,)"
      ]
     },
     "execution_count": 20,
     "metadata": {},
     "output_type": "execute_result"
    }
   ],
   "source": [
    "MIDX = np.load(milestone_path+'/MIDX.npy')\n",
    "MIDX.shape"
   ]
  },
  {
   "cell_type": "markdown",
   "metadata": {},
   "source": [
    "## 2.4 define color of each cell index *(a waste of time)*\n",
    "For better visulization, we assign different colors to projected frames in neighboring cells"
   ]
  },
  {
   "cell_type": "code",
   "execution_count": 21,
   "metadata": {},
   "outputs": [],
   "source": [
    "# Assign color to each milestone cell\n",
    "csel = ['pink','cyan','magenta','lawngreen']\n",
    "color = []\n",
    "color_tmp = np.array(['']*len(MIDX), dtype=(np.unicode_,10))\n",
    "for j in range(len(csel)):\n",
    "    color_tmp[MIDX%4 == j] = csel[j]\n",
    "color_tmp[MIDX==2*len(X)] = 'gray'\n",
    "color.append(color_tmp)   "
   ]
  },
  {
   "cell_type": "markdown",
   "metadata": {},
   "source": [
    "## 2.5 Visualize cell distributions"
   ]
  },
  {
   "cell_type": "code",
   "execution_count": 23,
   "metadata": {
    "scrolled": false
   },
   "outputs": [
    {
     "data": {
      "application/vnd.jupyter.widget-view+json": {
       "model_id": "68959da74290444f914771df349e96b3",
       "version_major": 2,
       "version_minor": 0
      },
      "text/plain": [
       "Canvas(toolbar=Toolbar(toolitems=[('Home', 'Reset original view', 'home', 'home'), ('Back', 'Back to previous …"
      ]
     },
     "metadata": {},
     "output_type": "display_data"
    },
    {
     "name": "stderr",
     "output_type": "stream",
     "text": [
      "/home/jefft/miniconda3/lib/python3.7/site-packages/ipykernel_launcher.py:51: MatplotlibDeprecationWarning: Adding an axes using the same arguments as a previous axes currently reuses the earlier instance.  In a future version, a new instance will always be created and returned.  Meanwhile, this warning can be suppressed, and the future behavior ensured, by passing a unique label to each axes instance.\n"
     ]
    }
   ],
   "source": [
    "# for i in range(100):\n",
    "#     %matplotlib notebook\n",
    "\n",
    "H = [] # H(x): numer of frames in each milestone\n",
    "\n",
    "Fig=plt.figure(figsize=(14,7))\n",
    "\n",
    "space = 10\n",
    "\n",
    "for i in range(len(X)-1):\n",
    "    index = np.where(MIDX==i)\n",
    "    H.append([i, index[0].shape[0]])\n",
    "    if len(index[0])!=0:\n",
    "        if (i != 0) and (i!= len(X)-2):\n",
    "            color_ = color[0][index[0][0]]\n",
    "        else:\n",
    "            color_ = 'gray'\n",
    "        \n",
    "        plt.plot(PCA1[index][0:-1:space],\n",
    "                PCA2[index][0:-1:space],\n",
    "                color = color_,\n",
    "                marker='o', markersize=1,\n",
    "                linestyle='None')\n",
    "\n",
    "# project frames move beyond milestone lines\n",
    "index = np.where(MIDX==2*len(X))\n",
    "H.append([-1, index[0].shape[0]])\n",
    "if len(index[0])!=0:\n",
    "    plt.plot(PCA1[index][0:-1:space],\n",
    "            PCA2[index][0:-1:space],\n",
    "            color = color[0][index[0][0]],\n",
    "            marker='o', markersize=1,\n",
    "            linestyle='None')\n",
    "\n",
    "plt.xlabel('PC1')\n",
    "plt.ylabel('PC2')\n",
    "\n",
    "plt.plot(X, Y, color='k', marker='o', markersize=1, linestyle='None')\n",
    "\n",
    "for i in range(len(X)):\n",
    "    if i==0:\n",
    "        plt.plot([Xn[i,0], Xp[i,0]],[Yn[i,0], Yp[i,0]],'-',\n",
    "             color='black', linewidth=0.5,label='milestones')\n",
    "    else:\n",
    "        plt.plot([Xn[i,0], Xp[i,0]],[Yn[i,0], Yp[i,0]],\n",
    "                 '-',color='black', linewidth=0.5)\n",
    "        if i%10==0:\n",
    "            plt.annotate(i, (1.5*(Xn[i]-X[i])+X[i],1.5*(Yn[i]-Y[i])+Y[i]),\n",
    "                        **dict(size=8, color='k'))  \n",
    "\n",
    "plt.axes().set_aspect('equal')\n",
    "plt.show()"
   ]
  },
  {
   "cell_type": "markdown",
   "metadata": {},
   "source": [
    "## 2.6 Number of frames in each milestone cell"
   ]
  },
  {
   "cell_type": "code",
   "execution_count": 24,
   "metadata": {},
   "outputs": [
    {
     "data": {
      "application/vnd.jupyter.widget-view+json": {
       "model_id": "c0ed3f902f5940f2ba9a99a39d3e5625",
       "version_major": 2,
       "version_minor": 0
      },
      "text/plain": [
       "Canvas(toolbar=Toolbar(toolitems=[('Home', 'Reset original view', 'home', 'home'), ('Back', 'Back to previous …"
      ]
     },
     "metadata": {},
     "output_type": "display_data"
    }
   ],
   "source": [
    "plt.figure()\n",
    "H = np.asarray(H)\n",
    "recover = (1-H[-1][1]/len(PCA1))\n",
    "plt.plot(H[:-1,0],H[:-1,1], color='gray')\n",
    "plt.xlabel('cell index', fontsize=12)\n",
    "plt.ylabel('frame #', fontsize=12)\n",
    "plt.show()"
   ]
  },
  {
   "cell_type": "markdown",
   "metadata": {},
   "source": [
    "# 3. Calculating dissociation free energy and MFPT"
   ]
  },
  {
   "cell_type": "markdown",
   "metadata": {},
   "source": [
    "## 3.1 Collect transitions between milestones"
   ]
  },
  {
   "cell_type": "markdown",
   "metadata": {},
   "source": [
    "### compute transitions of initial-points,  defined using \"hit by crossing\" and \"hit by touching\""
   ]
  },
  {
   "cell_type": "markdown",
   "metadata": {},
   "source": [
    "Transitions will be recorded in an array, TRANS, with the following columns:\n",
    "\n",
    "[ NRUN, initial milestone, final milestone, initial frame, final frame, type ]\n",
    "\n",
    "NRUN: index of the short MD run including the transition <br/>\n",
    "initial milestone: index of the milestone of the initial point<br/>\n",
    "final milestone: index of the terminating milestone of the transition<br/>\n",
    "initial frame: starting frame number of the transition in the short MD simulation<br/>\n",
    "final frame: terminating frame number of the transition in the short MD simulation<br/>\n",
    "type: 0: crossing, 1: touching"
   ]
  },
  {
   "cell_type": "code",
   "execution_count": 25,
   "metadata": {},
   "outputs": [
    {
     "data": {
      "application/vnd.jupyter.widget-view+json": {
       "model_id": "56bfd2d589d944cb9d4460a42648c022",
       "version_major": 2,
       "version_minor": 0
      },
      "text/plain": [
       "VBox(children=(HTML(value=''), IntProgress(value=0, max=12020)))"
      ]
     },
     "metadata": {},
     "output_type": "display_data"
    },
    {
     "name": "stdout",
     "output_type": "stream",
     "text": [
      "total transition: 164941\n"
     ]
    }
   ],
   "source": [
    "TRANS = bkit.TransitionKernel(PCA1, PCA2, MIDX, \n",
    "                              slope_mod, fp_mod, \n",
    "                              X, Y, sc, T, \n",
    "                              check_escape=True\n",
    "                             )"
   ]
  },
  {
   "cell_type": "markdown",
   "metadata": {},
   "source": [
    "### visualize transitions between milestones\n",
    "The PlotTransitoin module will plot a transition you selected by assing 0 $\\leq$ trans_id $<$ (total number of transition). The trancision will be shown in gradient color, from purple (intial) to yello (final), and the entire short MD simulation contiaing the transition segement is shown in gray."
   ]
  },
  {
   "cell_type": "code",
   "execution_count": 26,
   "metadata": {},
   "outputs": [
    {
     "name": "stdout",
     "output_type": "stream",
     "text": [
      "Short MD ID:\t352\n",
      "Initial frame:\t799\n",
      "Final frame:\t851\n"
     ]
    },
    {
     "data": {
      "application/vnd.jupyter.widget-view+json": {
       "model_id": "e9a9072466b540e2b62733f5cb4bf5d2",
       "version_major": 2,
       "version_minor": 0
      },
      "text/plain": [
       "Canvas(toolbar=Toolbar(toolitems=[('Home', 'Reset original view', 'home', 'home'), ('Back', 'Back to previous …"
      ]
     },
     "metadata": {},
     "output_type": "display_data"
    }
   ],
   "source": [
    "bkit.PlotTransition(TRANS, PCA1, PCA2, \n",
    "               Xn, Xp, Yn, Yp, \n",
    "               T, sc, \n",
    "               trans_id=8000\n",
    "               )"
   ]
  },
  {
   "cell_type": "markdown",
   "metadata": {},
   "source": [
    "## 3.2 Construct transition kernel, $K$, and average lifetime of each milestone"
   ]
  },
  {
   "cell_type": "code",
   "execution_count": 28,
   "metadata": {
    "scrolled": true
   },
   "outputs": [
    {
     "data": {
      "application/vnd.jupyter.widget-view+json": {
       "model_id": "d9130836c8c544c8b0e4dae3d4d37b09",
       "version_major": 2,
       "version_minor": 0
      },
      "text/plain": [
       "VBox(children=(HTML(value=''), IntProgress(value=0, max=164941)))"
      ]
     },
     "metadata": {},
     "output_type": "display_data"
    }
   ],
   "source": [
    "kmat = np.zeros((len(fp_mod),len(fp_mod)))\n",
    "mfpt = [ [] for i in range(len(fp_mod)) ]\n",
    "\n",
    "for i in bkit.log_progress(range(len(TRANS)),every=50000):\n",
    "    m_ini, m_f = [TRANS[i,1],TRANS[i,2]]\n",
    "    nfr = TRANS[i,-2] - TRANS[i,-3]\n",
    "    kmat[m_ini,m_f]+=1\n",
    "    mfpt[m_ini].append(nfr)\n",
    "\n",
    "kmat2=kmat[1:-1,1:-1].copy()\n",
    "kmat2 = (kmat2.T/kmat2.sum(axis=1)).T\n",
    "KMAT = kmat2\n",
    "\n",
    "mfpt2 = []\n",
    "for i in range(len(mfpt)):\n",
    "    tmp = np.array(mfpt[i])\n",
    "    if len(tmp) !=0:\n",
    "        mfpt2.append([i,tmp.mean()*0.1,tmp.std()*0.1])\n",
    "mfpt2=np.array(mfpt2)\n",
    "MFPT = mfpt\n",
    "MFPT_AVE = mfpt2"
   ]
  },
  {
   "cell_type": "markdown",
   "metadata": {},
   "source": [
    "### visualize numbers of frames in milestone cells (left), and compare with transitions on the milestones (right)"
   ]
  },
  {
   "cell_type": "code",
   "execution_count": 29,
   "metadata": {},
   "outputs": [
    {
     "data": {
      "application/vnd.jupyter.widget-view+json": {
       "model_id": "9f6a599a33f44e1491543fc1bd017f95",
       "version_major": 2,
       "version_minor": 0
      },
      "text/plain": [
       "Canvas(toolbar=Toolbar(toolitems=[('Home', 'Reset original view', 'home', 'home'), ('Back', 'Back to previous …"
      ]
     },
     "metadata": {},
     "output_type": "display_data"
    }
   ],
   "source": [
    "plt.figure(figsize=(12,3))\n",
    "\n",
    "plt.subplot(1,2,1)\n",
    "recover = (1-H[-1][1]/len(MIDX))\n",
    "H = np.asanyarray(H)\n",
    "plt.plot(H[:-1,0],H[:-1,1]/H[:-1,1].max(), color='gray')\n",
    "plt.xlabel('cell index', fontsize=12)\n",
    "plt.ylabel('rel. frame #', fontsize=12)\n",
    "\n",
    "plt.subplot(1,2,2)\n",
    "y = np.array([len(MFPT[i]) for i in range(len(MFPT))])\n",
    "plt.plot(range(len(MFPT)),y/y.max(),\n",
    "        color='gray')\n",
    " \n",
    "plt.xlabel('milestone index', fontsize=12)\n",
    "plt.ylabel('rel. transition counts', fontsize=12)\n",
    "plt.show()"
   ]
  },
  {
   "cell_type": "markdown",
   "metadata": {},
   "source": [
    "### check trnasition kernel elements, $K_{j, j+1}$ and $K_{j-1, j}$ "
   ]
  },
  {
   "cell_type": "code",
   "execution_count": 30,
   "metadata": {},
   "outputs": [
    {
     "data": {
      "application/vnd.jupyter.widget-view+json": {
       "model_id": "be5ab0806951446696919db479d702cd",
       "version_major": 2,
       "version_minor": 0
      },
      "text/plain": [
       "Canvas(toolbar=Toolbar(toolitems=[('Home', 'Reset original view', 'home', 'home'), ('Back', 'Back to previous …"
      ]
     },
     "metadata": {},
     "output_type": "display_data"
    }
   ],
   "source": [
    "plt.figure(figsize=(12,6))\n",
    "\n",
    "plt.subplot(1,2,1)\n",
    "x = MFPT_AVE[:-1,0]\n",
    "y = np.array([ KMAT[i,i+1] for i in range(len(KMAT)-1)])\n",
    "plt.plot(x,y,color='gray')   \n",
    "plt.xlabel('milestone index #', fontsize=12)\n",
    "plt.ylabel('$k_{i,i+1}$', fontsize=12)\n",
    "\n",
    "plt.subplot(1,2,2)\n",
    "x = MFPT_AVE[1:,0]\n",
    "y = np.array([ KMAT[i,i-1] for i in range(1,len(KMAT))])\n",
    "plt.plot(x,y,color='gray')     \n",
    "plt.xlabel('milestone index #', fontsize=12)\n",
    "plt.ylabel('$k_{i,i-1}$', fontsize=12)\n",
    "\n",
    "plt.show()"
   ]
  },
  {
   "cell_type": "markdown",
   "metadata": {},
   "source": [
    "# 4. Calculation of dissociation free energy"
   ]
  },
  {
   "cell_type": "markdown",
   "metadata": {},
   "source": [
    "## 4.1 set reflective boundary on the final milestone"
   ]
  },
  {
   "cell_type": "code",
   "execution_count": 31,
   "metadata": {},
   "outputs": [],
   "source": [
    "# Define indices of initial and last milestones\n",
    "b, f = 0, len(MFPT_AVE)-1\n",
    "\n",
    "# Provide appropriative boundary condition to the last milestone\n",
    "tmp = KMAT.copy()\n",
    "tmp[f,f-1]=1\n",
    "tmp[f,b]=0\n",
    "tmp[b,b+1]=1\n",
    "kernelsel = tmp\n",
    "kernelsel = kernelsel[b:f+1,b:f+1]"
   ]
  },
  {
   "cell_type": "markdown",
   "metadata": {},
   "source": [
    "## 4.2 Solve for stationary flux, q using both eigenvalue sover and power iteration"
   ]
  },
  {
   "cell_type": "code",
   "execution_count": 33,
   "metadata": {},
   "outputs": [
    {
     "data": {
      "application/vnd.jupyter.widget-view+json": {
       "model_id": "05abf628269c40b88a523a06423d7815",
       "version_major": 2,
       "version_minor": 0
      },
      "text/plain": [
       "VBox(children=(HTML(value=''), IntProgress(value=0, max=100000)))"
      ]
     },
     "metadata": {},
     "output_type": "display_data"
    }
   ],
   "source": [
    "# eigenvalue method\n",
    "evals, evecs = np.linalg.eig(kernelsel.T)\n",
    "index = np.flipud(np.argsort(evals))\n",
    "check=sum(1 for x in evecs[:,index[0]] if x < 0)\n",
    "if check != 0 and check != len(index):\n",
    "    print(\"i = %d Check Eigenvectors\" %i)\n",
    "    \n",
    "q_eigen = evecs[:,index[0]]\n",
    "PMF_eigen = -8.314*298/4184.0*np.log(np.abs(evecs[:f+1,index[0]])*MFPT_AVE[:f+1,1])\n",
    "STD = 8.314*298/4184.0*MFPT_AVE[:,2]/MFPT_AVE[:,1]\n",
    "\n",
    "# power iteration method\n",
    "q = np.random.rand(len(fp))\n",
    "for j in bkit.log_progress(range(100000),every=5000):\n",
    "    q = np.dot(q, kernelsel)\n",
    "    q /= np.linalg.norm(q)\n",
    "q_power = q\n",
    "PMF_power = -8.314*298/4184.0*np.log(np.abs(q_power[:f+1])*MFPT_AVE[:f+1,1])"
   ]
  },
  {
   "cell_type": "markdown",
   "metadata": {},
   "source": [
    "## 4.3 Compare q obtained from both methods"
   ]
  },
  {
   "cell_type": "code",
   "execution_count": 34,
   "metadata": {},
   "outputs": [
    {
     "data": {
      "application/vnd.jupyter.widget-view+json": {
       "model_id": "03a020f8aaff4f49b04d49b1904d3cd3",
       "version_major": 2,
       "version_minor": 0
      },
      "text/plain": [
       "Canvas(toolbar=Toolbar(toolitems=[('Home', 'Reset original view', 'home', 'home'), ('Back', 'Back to previous …"
      ]
     },
     "metadata": {},
     "output_type": "display_data"
    }
   ],
   "source": [
    "fig=plt.figure()\n",
    "plt.plot( range(len(q_eigen)), abs(q_eigen), color='gray', label='q from eigensolver')\n",
    "plt.plot( range(len(q_power)), q_power, '--',color='r', label='q from power iteration')\n",
    "plt.legend()    \n",
    "plt.xlabel('milestone index #', fontsize=16)\n",
    "plt.ylabel('q', fontsize=16)\n",
    "plt.show()"
   ]
  },
  {
   "cell_type": "markdown",
   "metadata": {},
   "source": [
    "## 4.4 Visualize the potential of mean force (PMF) profile"
   ]
  },
  {
   "cell_type": "code",
   "execution_count": 35,
   "metadata": {
    "scrolled": false
   },
   "outputs": [
    {
     "data": {
      "application/vnd.jupyter.widget-view+json": {
       "model_id": "0aaec5f60ca24214a721a3de3917c3f2",
       "version_major": 2,
       "version_minor": 0
      },
      "text/plain": [
       "Canvas(toolbar=Toolbar(toolitems=[('Home', 'Reset original view', 'home', 'home'), ('Back', 'Back to previous …"
      ]
     },
     "metadata": {},
     "output_type": "display_data"
    }
   ],
   "source": [
    "plt.figure(figsize=(8,6))\n",
    "\n",
    "plt.errorbar(range(b, f+1), (PMF_eigen - PMF_eigen.min()), \n",
    "        STD, color='gray', ecolor='k', elinewidth=0.5, capsize=1\n",
    "        )\n",
    "\n",
    "plt.grid()\n",
    "plt.xlabel('milestone index',fontsize=16)\n",
    "plt.ylabel('PMF (kcal/mol)', fontsize=16)\n",
    "plt.xticks(np.arange(b,(f+1), step=20))\n",
    "plt.tick_params(labelsize=12)\n",
    "plt.show()"
   ]
  },
  {
   "cell_type": "markdown",
   "metadata": {},
   "source": [
    "## 4.5 calculate unbinding free energy, $\\Delta G$"
   ]
  },
  {
   "cell_type": "code",
   "execution_count": 36,
   "metadata": {},
   "outputs": [
    {
     "name": "stdout",
     "output_type": "stream",
     "text": [
      "Free energy between milestones 4 and 78:\n",
      "ΔG =\t -5.441189489784111 kcal/mol\n",
      "std =\t 0.7663654813842341 kcal/mol\n"
     ]
    }
   ],
   "source": [
    "b_, f_ = np.argmin(PMF_eigen), np.argmax(PMF_eigen)\n",
    "print(\"Free energy between milestones %s and %s:\"%(b_, f_))\n",
    "\n",
    "DeltaG = -(PMF_eigen[f_] - PMF_eigen[b_])\n",
    "stdG = np.sqrt(STD[b_]**2 + STD[f_]**2)\n",
    "print(\"\\u0394G =\\t\", DeltaG, \"kcal/mol\")\n",
    "print(\"std =\\t\",  stdG, \"kcal/mol\" )"
   ]
  },
  {
   "cell_type": "markdown",
   "metadata": {},
   "source": [
    "# 5. Calculation of MFPT"
   ]
  },
  {
   "cell_type": "markdown",
   "metadata": {},
   "source": [
    "## 5.1 set cyclic boundary on the final milestone\n",
    "The modified trnasition kernel is deneted as $K^c$"
   ]
  },
  {
   "cell_type": "code",
   "execution_count": 37,
   "metadata": {},
   "outputs": [],
   "source": [
    "kernelsel2=[]\n",
    "b = b_\n",
    "f = f_ \n",
    "tmp = KMAT.copy()\n",
    "tmp[b,b+1]=1\n",
    "tmp[f,f-1]=0\n",
    "tmp[f,b]=1 \n",
    "kernelsel2 = tmp\n",
    "kernelsel2 = kernelsel2[b:f+1,b:f+1]"
   ]
  },
  {
   "cell_type": "markdown",
   "metadata": {},
   "source": [
    "## 5.2 Solve for stationary flux, q using eigenvalue sover "
   ]
  },
  {
   "cell_type": "code",
   "execution_count": 38,
   "metadata": {},
   "outputs": [],
   "source": [
    "evals, evecs = np.linalg.eig(kernelsel2.T)\n",
    "index = np.flipud(np.argsort(evals))\n",
    "check=sum(1 for x in evecs[:,index[0]] if x < 0)\n",
    "if check != 0 and check != len(index):\n",
    "    print(\"i = %d Check Eigenvectors\" %i)\n",
    "\n",
    "q_mfpt = evecs[:,index[0]]\n",
    "PMF_mfpt = -8.314*298/4184.0*np.log(np.abs(q_mfpt[:f+1])*MFPT_AVE[b:f+1,1])"
   ]
  },
  {
   "cell_type": "markdown",
   "metadata": {},
   "source": [
    "## 5.3 Visualize the PMF solved from $K^c$ (not a thermodynamic property)"
   ]
  },
  {
   "cell_type": "code",
   "execution_count": 39,
   "metadata": {},
   "outputs": [
    {
     "data": {
      "application/vnd.jupyter.widget-view+json": {
       "model_id": "c2391ae1e1f449d69bd20ef21475a183",
       "version_major": 2,
       "version_minor": 0
      },
      "text/plain": [
       "Canvas(toolbar=Toolbar(toolitems=[('Home', 'Reset original view', 'home', 'home'), ('Back', 'Back to previous …"
      ]
     },
     "metadata": {},
     "output_type": "display_data"
    }
   ],
   "source": [
    "plt.figure()\n",
    "plt.errorbar(\n",
    "        range(b,f+1), \n",
    "        PMF_mfpt-PMF_mfpt.min(), \n",
    "        STD[b:f+1],\n",
    "        color='gray', ecolor='k', elinewidth=0.5, capsize=1)\n",
    "plt.grid()\n",
    "plt.xlabel('milestone index #')\n",
    "plt.ylabel('PMF (kcal/mol)')\n",
    "plt.xticks(np.arange(b, f+1, step=10))\n",
    "plt.show()"
   ]
  },
  {
   "cell_type": "markdown",
   "metadata": {},
   "source": [
    "## 5.4 Calculate MFPT"
   ]
  },
  {
   "cell_type": "code",
   "execution_count": 40,
   "metadata": {
    "scrolled": true
   },
   "outputs": [
    {
     "name": "stdout",
     "output_type": "stream",
     "text": [
      "MFPT from milestone 4 to 78:\n",
      "MFPT =\t 4.470304E-03 ms\n",
      "std =\t 9.725468E-04 ms\n"
     ]
    }
   ],
   "source": [
    "print(\"MFPT from milestone %s to %s:\"%(b, f))\n",
    "mfpt = abs( (q_mfpt*MFPT_AVE[:,1][b:f+1]).sum()/q_mfpt[-1])/10**9\n",
    "print(\"MFPT =\\t %E ms\" % mfpt)\n",
    "count = np.array([1]*len(MFPT))\n",
    "p_t_std = np.sqrt(((q_mfpt*MFPT_AVE[:,2][b:f+1])**2 / count[b:f+1]).sum())\n",
    "std_mfpt = abs(p_t_std/q_mfpt[-1]/10**9)\n",
    "print(\"std =\\t %E ms\" % std_mfpt)"
   ]
  },
  {
   "cell_type": "markdown",
   "metadata": {},
   "source": [
    "# 6. Compare initial-point distribution (IPD) and first hitting point distribution (FHPD) on milestones"
   ]
  },
  {
   "cell_type": "markdown",
   "metadata": {},
   "source": [
    "## 6.1 Collect FHPD"
   ]
  },
  {
   "cell_type": "code",
   "execution_count": 41,
   "metadata": {},
   "outputs": [],
   "source": [
    "# Collect FHPD on PC1/PC2 space\n",
    "global_idx = []\n",
    "for m in range(1, len(fp_mod)-1):\n",
    "    index = TRANS[:,2] == m\n",
    "    tmp = TRANS[index]\n",
    "    idx = T*tmp[:,0]+tmp[:,4]\n",
    "    global_idx.append(idx)\n",
    "    \n",
    "# Compute FHPD along the direction of the cooresponding milestone\n",
    "FHPD = []\n",
    "for m,i in enumerate(global_idx):\n",
    "    dist_ = np.sqrt((PCA1[i]-Xn[m])**2 + (PCA2[i]-Yn[m])**2)\n",
    "    FHPD.append(dist_)\n",
    "FHPD = np.array(FHPD)"
   ]
  },
  {
   "cell_type": "markdown",
   "metadata": {},
   "source": [
    "## 6.2 Collect IPD"
   ]
  },
  {
   "cell_type": "code",
   "execution_count": 42,
   "metadata": {},
   "outputs": [],
   "source": [
    "# Collect IPD on PC1/PC2 space\n",
    "global_idx2 = []\n",
    "for m in range(1, len(fp_mod)-1):\n",
    "    index = TRANS[:,1] == m\n",
    "    tmp = TRANS[index]\n",
    "    idx = T*tmp[:,0]+tmp[:,3]\n",
    "    global_idx2.append(idx)\n",
    "    \n",
    "# Compute IPD along the direction of the cooresponding milestone\n",
    "IPD=[]\n",
    "for m,i in enumerate(global_idx2):\n",
    "    dist_ = np.sqrt((PCA1[i]-Xn[m])**2 + (PCA2[i]-Yn[m])**2)\n",
    "    IPD.append(dist_)\n",
    "IPD.append(np.array(IPD))"
   ]
  },
  {
   "cell_type": "markdown",
   "metadata": {},
   "source": [
    "## 6.3 Compare FHPD and IPD"
   ]
  },
  {
   "cell_type": "code",
   "execution_count": 44,
   "metadata": {},
   "outputs": [
    {
     "data": {
      "image/png": "[encoded data removed]",
      "text/plain": [
       "<Figure size 792x792 with 4 Axes>"
      ]
     },
     "metadata": {
      "needs_background": "light"
     },
     "output_type": "display_data"
    }
   ],
   "source": [
    "%matplotlib inline\n",
    "\n",
    "m = 65 # targetting milestone\n",
    "dv = 5 # visualization range in PC1/PC2 space, the smaller number gives more close-up view\n",
    "\n",
    "#################################################################################################\n",
    "######### Don Not Change Anything After This Line Unless You Know What You Are Doing ############\n",
    "#################################################################################################\n",
    "\n",
    "mp = m+1\n",
    "\n",
    "fig=plt.figure(figsize=(11,11))\n",
    "plt.subplots_adjust(wspace=0.3)\n",
    "\n",
    "plt.subplot(2,2,1)\n",
    "x_,y_ = [[],[]]\n",
    "for _,i in enumerate(global_idx[m]):\n",
    "    x_.append(PCA1[i])\n",
    "    y_.append(PCA2[i])\n",
    "plt.plot(x_,y_,markersize='2',marker='o',c='gray',linestyle='None')\n",
    "    \n",
    "for i in range(len(X)):\n",
    "    if i==0:\n",
    "        plt.plot([Xn[i,0], Xp[i,0]],[Yn[i,0], Yp[i,0]],'-',\n",
    "             color='black', linewidth=0.5,label='milestones')\n",
    "    else:\n",
    "        plt.plot([Xn[i,0], Xp[i,0]],[Yn[i,0], Yp[i,0]],\n",
    "                 '-',color='black', linewidth=0.5)\n",
    "plt.xlim([np.min([Xn[mp],Xp[mp]])-dv, np.max([Xn[mp],Xp[mp]])+dv])\n",
    "plt.ylim([np.min([Yn[mp],Yp[mp]])-dv, np.max([Yn[mp],Yp[mp]])+dv])\n",
    "plt.title('FHPD on milestone %d'%(m))\n",
    "plt.xlabel('PC1')\n",
    "plt.ylabel('PC2')\n",
    "\n",
    "\n",
    "plt.subplot(2,2,2)\n",
    "plt.hist(FHPD[m],bins=10,color='gray'\n",
    "         ,alpha=0.5,density=True, fill=False, histtype='step', linewidth=2\n",
    "         , label = '(%d)'%(len(FHPD[m])))\n",
    "    \n",
    "plt.title('FHPD on milestone %d'%(m))\n",
    "plt.xlim([0,sc])\n",
    "plt.ylim([0,0.2])\n",
    "plt.xlabel('r')\n",
    "plt.ylabel('P(r)')\n",
    "plt.legend(loc=1)\n",
    "\n",
    "\n",
    "plt.subplot(2,2,3)\n",
    "x_,y_ = [[],[]]\n",
    "for _,i in enumerate(global_idx2[m]):\n",
    "    x_.append(PCA1[i])\n",
    "    y_.append(PCA2[i])\n",
    "plt.plot(x_,y_,markersize='2',marker='o',c='gray',linestyle='None')\n",
    "    \n",
    "for i in range(len(X)):\n",
    "    if i==0:\n",
    "        plt.plot([Xn[i,0], Xp[i,0]],[Yn[i,0], Yp[i,0]],'-',\n",
    "             color='black', linewidth=0.5,label='milestones')\n",
    "    else:\n",
    "        plt.plot([Xn[i,0], Xp[i,0]],[Yn[i,0], Yp[i,0]],\n",
    "                 '-',color='black', linewidth=0.5)\n",
    "plt.xlim([np.min([Xn[mp],Xp[mp]])-dv, np.max([Xn[mp],Xp[mp]])+dv])\n",
    "plt.ylim([np.min([Yn[mp],Yp[mp]])-dv, np.max([Yn[mp],Yp[mp]])+dv])\n",
    "plt.title('IPD on milestone %d'%(m))\n",
    "plt.xlabel('PC1')\n",
    "plt.ylabel('PC2')\n",
    "\n",
    "plt.subplot(2,2,4)\n",
    "plt.hist(IPD[m],bins=10,color='gray'\n",
    "         ,alpha=0.5,density=True, fill=False, histtype='step', linewidth=2\n",
    "         , label = '(%d)'%(len(IPD[m])))\n",
    "    \n",
    "        \n",
    "plt.title('IPD on milestone %d'%(m))\n",
    "plt.xlim([0,sc])\n",
    "plt.ylim([0,0.3])\n",
    "plt.xlabel('r')\n",
    "plt.ylabel('P(r)')\n",
    "plt.legend(loc=1)\n",
    "\n",
    "plt.show()"
   ]
  },
  {
   "cell_type": "code",
   "execution_count": 45,
   "metadata": {},
   "outputs": [
    {
     "data": {
      "image/png": "[encoded data removed]",
      "text/plain": [
       "<Figure size 432x288 with 1 Axes>"
      ]
     },
     "metadata": {
      "needs_background": "light"
     },
     "output_type": "display_data"
    }
   ],
   "source": [
    "fig = plt.figure()\n",
    "plt.hist(FHPD[m], bins=10, color='gray'\n",
    "         ,alpha=0.5,density=True, fill=False, \n",
    "         histtype='step', linewidth=2, \n",
    "         label = 'FHPD (%d)'%(len(FHPD[m]))\n",
    "        )\n",
    "plt.hist(IPD[m], bins=10, color='r'\n",
    "         ,alpha=0.5,density=True, fill=False, \n",
    "         histtype='step', linewidth=2, \n",
    "         label = 'IPD (%d)'%(len(IPD[m]))\n",
    "        )\n",
    "plt.title('milestone %d'%(m), fontsize=20)\n",
    "plt.legend(loc=1,fontsize=16)\n",
    "plt.tick_params(labelsize=16)\n",
    "plt.xlim([0,sc])\n",
    "plt.ylim([0,0.25])\n",
    "plt.tight_layout()"
   ]
  },
  {
   "cell_type": "markdown",
   "metadata": {},
   "source": [
    "# 7. Generate a representative frame for each milestone"
   ]
  },
  {
   "cell_type": "markdown",
   "metadata": {},
   "source": [
    "## 7.1 Nearest-to-average frame on each milestone\n",
    "We define the representative frame as one of the initial-points of the milestone, whose position in the PC1/PC2 space has the shortest distance to the average position of all the entire IPD on the milestone. The index of the representative frame is stored in a list, Repre. \n",
    "\n",
    "The global index give an unique index for a specific frame from a specific replica of a specific initial configuration. The global index is defined as:<br/><br/>\n",
    "$ID = id_1*(N_{replica}*N_{frame}) + id_2*(N_{frame}) + id_3 $, where\n",
    "\n",
    "$ID$: global index <br/>\n",
    "$id_1$: index of intial configuration, e.g. 0 for P0, 6000 for P6000<br/>\n",
    "$id_2$: index of replica, e.g. 0 for 02.MD1, 15 for 02.MD16<br/>\n",
    "$id_3$: index of frame in each short MD simulation <br/>\n",
    "$N_{replica}$: total number of simulation replicas of each initial configuration <br/>\n",
    "$N_{frame}$: total number of frames of each short MD simulation\n",
    "\n"
   ]
  },
  {
   "cell_type": "code",
   "execution_count": 181,
   "metadata": {},
   "outputs": [],
   "source": [
    "Repre=[]\n",
    "for m in range(len(fp)):\n",
    "    x_,y_ = [[],[]]\n",
    "    for _,i in enumerate(global_idx2[m]):\n",
    "        x_.append(PCA1[i])\n",
    "        y_.append(PCA2[i])\n",
    "\n",
    "    x_, y_ = [np.array(x_),np.array(y_)]\n",
    "    avx_,avy_ = [x_.mean(),y_.mean()]\n",
    "    id_ = np.argmin( (x_ - avx_)**2 + (y_ - avy_)**2 )\n",
    "    Repre.append(global_idx2[m][id_])\n",
    "Repre = np.array(Repre)"
   ]
  },
  {
   "cell_type": "markdown",
   "metadata": {},
   "source": [
    "## 7.2 Extract representative frames from short MD trajectories\n",
    "If you used either Zhiye's or my bash script to submit short simulation jobs, the file structure should be P[0-6000]/02.MD[1-20], where 0-6000 and 1-20 could be dependent on the number of initial configurations and replica of simulations used. If you have different file structure, then you should modified the following script accordingly.\n",
    "\n",
    "You should obtain a single *.dcd file, compiling all the representative frames following the order of milestones."
   ]
  },
  {
   "cell_type": "code",
   "execution_count": 185,
   "metadata": {},
   "outputs": [
    {
     "data": {
      "application/vnd.jupyter.widget-view+json": {
       "model_id": "e8eaf8e09a4a42de8b856bdb40dfbf36",
       "version_major": 2,
       "version_minor": 0
      },
      "text/plain": [
       "VBox(children=(HTML(value=''), IntProgress(value=0, max=200)))"
      ]
     },
     "metadata": {},
     "output_type": "display_data"
    }
   ],
   "source": [
    "ShortMD_dir = '*'# path of the folder containing all of the unwraped short MD trajectories\n",
    "Repre_dir = '*' # path of the folder you created to save representative frames\n",
    "\n",
    "it = 0 # First index of the short MD simulation folder (e.g. it=0 for P0)\n",
    "en = 6000 # Last index of the short MD simulation folder (e.g. it=6000 for P6000)\n",
    "frq = 10 # frequencing of the folder index, e.g. frq=10 if your folders are P0, P10, ... P5990, P6000\n",
    "iit = 1 # first replica in the above P* folder\n",
    "ien = 20 # last replica  in the above P* folder\n",
    "\n",
    "#################################################################################################\n",
    "######### Don Not Change Anything After This Line Unless You Know What You Are Doing ############\n",
    "#################################################################################################\n",
    "\n",
    "id1 = np.floor(Repre/(T*ien))*frq # P{id1}\n",
    "id2 = np.floor(Repre%(T*ien)/T)+1 #02.MD{id2}\n",
    "id3 = Repre%(T*ien)%T #frame_indices=[id3]\n",
    "\n",
    "\n",
    "filename=[]\n",
    "for i in log_progress(range(len(id1))):\n",
    "    filepath = ShortMD_dir+'/P'+str(int(id1[i]))+'/02.MD'+str(int(id2[i]))+'/MD1_unwrap.dcd'               \n",
    "    mdtraj = pt.load(filepath, TOP, frame_indices=[id3[i]])\n",
    "\n",
    "    pt.superpose(mdtraj, ref=refpdb, mask = mask)\n",
    "    mdtraj.save(Repre_dir+'/m'+str(i)+'.dcd',overwrite=True)\n",
    "    filename.append(Repre_dir+'/m'+str(i)+'.dcd')\n",
    "    \n",
    "movie = pt.iterload(filename,TOP)\n",
    "pt.write_traj(Repre_dir+'/Repre_T%d_L%d.dcd'%(T,sc),movie,overwrite=True)\n",
    "\n",
    "! rm {Repre_dir+'/'}m* # delete intermediate files"
   ]
  },
  {
   "cell_type": "code",
   "execution_count": null,
   "metadata": {},
   "outputs": [],
   "source": []
  }
 ],
 "metadata": {
  "kernelspec": {
   "display_name": "Python 3",
   "language": "python",
   "name": "python3"
  },
  "language_info": {
   "codemirror_mode": {
    "name": "ipython",
    "version": 3
   },
   "file_extension": ".py",
   "mimetype": "text/x-python",
   "name": "python",
   "nbconvert_exporter": "python",
   "pygments_lexer": "ipython3",
   "version": "3.7.7"
  }
 },
 "nbformat": 4,
 "nbformat_minor": 2
}
