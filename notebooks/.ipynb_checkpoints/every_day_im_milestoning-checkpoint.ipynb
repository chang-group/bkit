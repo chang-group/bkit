{
 "cells": [
  {
   "cell_type": "code",
   "execution_count": 3,
   "metadata": {},
   "outputs": [],
   "source": [
    "%matplotlib ipympl\n",
    "\n",
    "import joblib\n",
    "import matplotlib.pyplot as plt\n",
    "import matplotlib as mpl"
   ]
  },
  {
   "cell_type": "code",
   "execution_count": 20,
   "metadata": {},
   "outputs": [],
   "source": [
    "import numpy as np\n",
    "import scipy.spatial\n",
    "import itertools as it\n",
    "import networkx as nx\n",
    "\n",
    "class Schedule:\n",
    "    \n",
    "    def __init__(self, labels=None, lengths=None):\n",
    "        if labels:\n",
    "            assert len(labels) == len(lengths)\n",
    "            self.labels = labels\n",
    "            self.lengths = np.array(lengths)\n",
    "        else:\n",
    "            self.labels = []\n",
    "            self.lengths = np.array([])\n",
    "    \n",
    "    def append(self, a, t):\n",
    "        self.labels.append(a)\n",
    "        self.lengths = np.append(self.lengths, [t])\n",
    "\n",
    "    def length(self):\n",
    "        return self.lengths.sum()\n",
    "    \n",
    "    def scale_lengths(t):\n",
    "        self.lengths =  self.lengths * t\n",
    "        \n",
    "    def reduce(self):\n",
    "        selectors = self.lengths != 0\n",
    "        self.labels = list(it.compress(self.labels, selectors))\n",
    "        self.lengths = self.lengths[selectors]\n",
    "    \n",
    "    def is_reduced(self):\n",
    "        return not np.any(self.lengths == 0)\n",
    "    \n",
    "    def __str__(self):\n",
    "        return ''.join(['({}, {})'.format(a, t) for a, t in zip(self.labels, self.lengths)])\n",
    "\n",
    "    def __getitem__(self, key):\n",
    "        if isinstance(key, int):\n",
    "            return (self.labels[key], self.lengths[key])\n",
    "        else:\n",
    "            return Schedule(self.labels[key], self.lengths[key])\n",
    "    \n",
    "    def __delitem__(self, key):\n",
    "        del self.labels[key]\n",
    "        self.lengths = np.delete(self.lengths, key)\n",
    "    \n",
    "    def __iter__(self):\n",
    "        return zip(self.labels, self.lengths)\n",
    "        \n",
    "    def __len__(self):\n",
    "        return len(self.labels)\n",
    "\n",
    "    \n",
    "class MilestoningModel:\n",
    "\n",
    "    def __init__(self, anchors):\n",
    "        nanchors, ndim = anchors.shape\n",
    "        \n",
    "        self._graph = nx.Graph()\n",
    "        if ndim > 1:\n",
    "            tri = scipy.spatial.Delaunay(points)\n",
    "            indptr, indices = tri.vertex_neighbor_vertices\n",
    "            for i in range(nanchors-1):\n",
    "                self._graph.add_edges_from([(i, j) for j in indices[indptr[i]:indptr[i+1]]])\n",
    "        else:\n",
    "            self._graph.add_edges_from([(i, i+1) for i in range(nanchors-1)])\n",
    "        \n",
    "        self._anchor_kdtree = scipy.spatial.cKDTree(anchors)\n",
    "        self._parent_node = list(range(nanchors))\n",
    "        self._node_anchors = {i: set([tuple(anchors[i])]) for i in range(nanchors)}\n",
    "        self._sampled_edges = set()\n",
    "  \n",
    "        self._schedules = []\n",
    "    \n",
    "    @property\n",
    "    def milestones(self):\n",
    "        return [set(e) for e in self._graph.edges]\n",
    "    \n",
    "    @property\n",
    "    def cell_anchors(self):\n",
    "        return self._node_anchors\n",
    "    \n",
    "    @property\n",
    "    def is_resolved(self):\n",
    "        return all([self._graph.has_edge(i, j) for i, j in self._sampled_edges])\n",
    "    \n",
    "    @property\n",
    "    def unresolved_jumps(self):\n",
    "        return sorted([(i, j) for i, j in self._sampled_edges \n",
    "                       if not self._graph.has_edge(i, j)])\n",
    "    \n",
    "    def load_trajectory_data(self, trajs, dt=1):\n",
    "        \n",
    "        for traj in trajs:\n",
    "            node_path = [self._parent_node[k] for k in self._anchor_kdtree.query(traj)[1]]\n",
    "            edge_path = list(zip(node_path[:-1], node_path[1:]))\n",
    "            \n",
    "            schedule = Schedule()\n",
    "            \n",
    "            start = 1\n",
    "            for source, target in edge_path:\n",
    "                if target != source:\n",
    "                    schedule.append((source, target), dt)\n",
    "                    break\n",
    "                start += 1\n",
    "                \n",
    "            for source, target in edge_path[start:]:\n",
    "                if target in schedule.labels[-1]:\n",
    "                    schedule.lengths[-1] += dt\n",
    "                    continue\n",
    "                schedule.append((source, target), dt)\n",
    "            \n",
    "            if schedule:\n",
    "                self._schedules.append(schedule)\n",
    "            self._sampled_edges |= set(schedule.labels)\n",
    "            \n",
    "    def remove_milestone(self, i, j):\n",
    "        \n",
    "        self._graph = nx.contracted_nodes(self._graph, i, j, self_loops=False)\n",
    "        for a in self._node_anchors[j]:\n",
    "            self._parent_node = i\n",
    "        self._node_anchors[i] |= self._node_anchors.pop(j)\n",
    "        \n",
    "        self._sampled_edges = set()\n",
    "        \n",
    "        schedules = []\n",
    "        for schedule_old in self._schedules:\n",
    "\n",
    "            edge = schedule_old.labels[0]\n",
    "            if edge == (i, j) or edge == (j, i):\n",
    "                if not schedule_old[1:]:\n",
    "                    continue\n",
    "                schedule_old = schedule_old[1:]\n",
    "            \n",
    "            schedule = Schedule()\n",
    "            \n",
    "            (source, target), lifetime = schedule_old[0]\n",
    "            if source == j:\n",
    "                schedule.append((i, target), lifetime)\n",
    "            elif target == j:\n",
    "                schedule.append((source, i), lifetime)\n",
    "            else:\n",
    "                schedule.append((source, target), lifetime)\n",
    "\n",
    "            for edge, lifetime in schedule_old[1:]:\n",
    "                \n",
    "                if edge == (i, j) or edge == (j, i):\n",
    "                    schedule.lengths[-1] += lifetime\n",
    "                    continue\n",
    "\n",
    "                source, target = edge\n",
    "                if target in schedule.labels[-1]:\n",
    "                    schedule.lengths[-1] += lifetime\n",
    "                    continue\n",
    "                \n",
    "                if source == j:\n",
    "                    schedule.append((i, target), lifetime)\n",
    "                elif target == j:\n",
    "                    schedule.append((source, i), lifetime)\n",
    "                else:\n",
    "                    schedule.append((source, target), lifetime)\n",
    "            \n",
    "            if schedule:\n",
    "                schedules.append(schedule)\n",
    "            self._sampled_edges |= set(schedule.labels)\n",
    "        \n",
    "        self._schedules = schedules\n",
    "    \n",
    "    def estimate(self):\n",
    "        \n",
    "        milestone_index = {}\n",
    "        for m, (i, j) in enumerate(self._graph.edges):\n",
    "            milestone_index[(i, j)] = m\n",
    "            milestone_index[(j, i)] = m\n",
    "        \n",
    "        M = self._graph.number_of_edges()\n",
    "        self._N = np.zeros((M, M), dtype=np.int32)\n",
    "        self._T = np.zeros(M)\n",
    "        \n",
    "        for schedule in self._schedules:\n",
    "            for (a, t), (b, _) in zip(schedule[:-1], schedule[1:]):\n",
    "                if a in milestone_index and b in milestone_index:\n",
    "                    self._T[milestone_index[a]] += t\n",
    "                    self._N[milestone_index[a], milestone_index[b]] += 1\n",
    "        \n",
    "        self.K = self._N / np.sum(self._N, axis=1)[:, np.newaxis]\n",
    "        self.t = self._T / np.sum(self._N, axis=1)\n"
   ]
  },
  {
   "cell_type": "code",
   "execution_count": 21,
   "metadata": {},
   "outputs": [],
   "source": [
    "trajs = [x[:, np.newaxis] for x in joblib.load('/data/p38a-SB2/short_md/path1/x.joblib').values()]"
   ]
  },
  {
   "cell_type": "code",
   "execution_count": 22,
   "metadata": {},
   "outputs": [
    {
     "data": {
      "application/vnd.jupyter.widget-view+json": {
       "model_id": "ff7a3a489f104fcc82ab22b6398150ec",
       "version_major": 2,
       "version_minor": 0
      },
      "text/plain": [
       "Canvas(toolbar=Toolbar(toolitems=[('Home', 'Reset original view', 'home', 'home'), ('Back', 'Back to previous …"
      ]
     },
     "metadata": {},
     "output_type": "display_data"
    }
   ],
   "source": [
    "plt.figure()\n",
    "\n",
    "plt.hist(np.concatenate(trajs), 1000, density=True, histtype='step')\n",
    "plt.ylabel('Empirical Density')\n",
    "_ = plt.xlabel('Reaction Coordinate ($\\mathrm{\\AA}$)')"
   ]
  },
  {
   "cell_type": "code",
   "execution_count": 26,
   "metadata": {},
   "outputs": [],
   "source": [
    "anchors = np.arange(13, 30, 1)[:, np.newaxis]"
   ]
  },
  {
   "cell_type": "code",
   "execution_count": 27,
   "metadata": {},
   "outputs": [],
   "source": [
    "model = MilestoningModel(anchors)\n",
    "model.load_trajectory_data(trajs, dt=0.1)"
   ]
  },
  {
   "cell_type": "code",
   "execution_count": 28,
   "metadata": {},
   "outputs": [
    {
     "data": {
      "text/plain": [
       "[]"
      ]
     },
     "execution_count": 28,
     "metadata": {},
     "output_type": "execute_result"
    }
   ],
   "source": [
    "model.unresolved_jumps"
   ]
  },
  {
   "cell_type": "code",
   "execution_count": 29,
   "metadata": {},
   "outputs": [],
   "source": [
    "model.estimate()"
   ]
  },
  {
   "cell_type": "code",
   "execution_count": 33,
   "metadata": {
    "scrolled": false
   },
   "outputs": [
    {
     "data": {
      "text/plain": [
       "41.89999999999993"
      ]
     },
     "execution_count": 33,
     "metadata": {},
     "output_type": "execute_result"
    }
   ],
   "source": [
    "model._T[0]"
   ]
  },
  {
   "cell_type": "code",
   "execution_count": 31,
   "metadata": {},
   "outputs": [
    {
     "data": {
      "text/plain": [
       "array([[   0,    9,    0,    0,    0,    0,    0,    0,    0,    0,    0,\n",
       "           0,    0,    0,    0,    0],\n",
       "       [   9,    0, 1290,    0,    0,    0,    0,    0,    0,    0,    0,\n",
       "           0,    0,    0,    0,    0],\n",
       "       [   0, 1301,    0, 9357,    0,    0,    0,    0,    0,    0,    0,\n",
       "           0,    0,    0,    0,    0],\n",
       "       [   0,    0, 9345,    0, 6218,    0,    0,    0,    0,    0,    0,\n",
       "           0,    0,    0,    0,    0],\n",
       "       [   0,    0,    0, 6247,    0,  791,    0,    0,    0,    0,    0,\n",
       "           0,    0,    0,    0,    0],\n",
       "       [   0,    0,    0,    0,  774,    0,  558,    0,    0,    0,    0,\n",
       "           0,    0,    0,    0,    0],\n",
       "       [   0,    0,    0,    0,    0,  560,    0, 1467,    0,    0,    0,\n",
       "           0,    0,    0,    0,    0],\n",
       "       [   0,    0,    0,    0,    0,    0, 1482,    0, 1863,    0,    0,\n",
       "           0,    0,    0,    0,    0],\n",
       "       [   0,    0,    0,    0,    0,    0,    0, 1923,    0, 1298,    0,\n",
       "           0,    0,    0,    0,    0],\n",
       "       [   0,    0,    0,    0,    0,    0,    0,    0, 1316,    0,  657,\n",
       "           0,    0,    0,    0,    0],\n",
       "       [   0,    0,    0,    0,    0,    0,    0,    0,    0,  628,    0,\n",
       "         255,    0,    0,    0,    0],\n",
       "       [   0,    0,    0,    0,    0,    0,    0,    0,    0,    0,  234,\n",
       "           0,   73,    0,    0,    0],\n",
       "       [   0,    0,    0,    0,    0,    0,    0,    0,    0,    0,    0,\n",
       "          68,    0,  531,    0,    0],\n",
       "       [   0,    0,    0,    0,    0,    0,    0,    0,    0,    0,    0,\n",
       "           0,  515,    0, 1209,    0],\n",
       "       [   0,    0,    0,    0,    0,    0,    0,    0,    0,    0,    0,\n",
       "           0,    0, 1162,    0,  835],\n",
       "       [   0,    0,    0,    0,    0,    0,    0,    0,    0,    0,    0,\n",
       "           0,    0,    0,  844,    0]], dtype=int32)"
      ]
     },
     "execution_count": 31,
     "metadata": {},
     "output_type": "execute_result"
    }
   ],
   "source": [
    "model._N"
   ]
  },
  {
   "cell_type": "code",
   "execution_count": 32,
   "metadata": {},
   "outputs": [
    {
     "data": {
      "text/plain": [
       "(array([[0.        , 1.        , 0.        , 0.        , 0.        ,\n",
       "         0.        , 0.        , 0.        , 0.        , 0.        ,\n",
       "         0.        , 0.        , 0.        , 0.        , 0.        ,\n",
       "         0.        ],\n",
       "        [0.00692841, 0.        , 0.99307159, 0.        , 0.        ,\n",
       "         0.        , 0.        , 0.        , 0.        , 0.        ,\n",
       "         0.        , 0.        , 0.        , 0.        , 0.        ,\n",
       "         0.        ],\n",
       "        [0.        , 0.12206793, 0.        , 0.87793207, 0.        ,\n",
       "         0.        , 0.        , 0.        , 0.        , 0.        ,\n",
       "         0.        , 0.        , 0.        , 0.        , 0.        ,\n",
       "         0.        ],\n",
       "        [0.        , 0.        , 0.60046264, 0.        , 0.39953736,\n",
       "         0.        , 0.        , 0.        , 0.        , 0.        ,\n",
       "         0.        , 0.        , 0.        , 0.        , 0.        ,\n",
       "         0.        ],\n",
       "        [0.        , 0.        , 0.        , 0.88761012, 0.        ,\n",
       "         0.11238988, 0.        , 0.        , 0.        , 0.        ,\n",
       "         0.        , 0.        , 0.        , 0.        , 0.        ,\n",
       "         0.        ],\n",
       "        [0.        , 0.        , 0.        , 0.        , 0.58108108,\n",
       "         0.        , 0.41891892, 0.        , 0.        , 0.        ,\n",
       "         0.        , 0.        , 0.        , 0.        , 0.        ,\n",
       "         0.        ],\n",
       "        [0.        , 0.        , 0.        , 0.        , 0.        ,\n",
       "         0.27627035, 0.        , 0.72372965, 0.        , 0.        ,\n",
       "         0.        , 0.        , 0.        , 0.        , 0.        ,\n",
       "         0.        ],\n",
       "        [0.        , 0.        , 0.        , 0.        , 0.        ,\n",
       "         0.        , 0.44304933, 0.        , 0.55695067, 0.        ,\n",
       "         0.        , 0.        , 0.        , 0.        , 0.        ,\n",
       "         0.        ],\n",
       "        [0.        , 0.        , 0.        , 0.        , 0.        ,\n",
       "         0.        , 0.        , 0.59701956, 0.        , 0.40298044,\n",
       "         0.        , 0.        , 0.        , 0.        , 0.        ,\n",
       "         0.        ],\n",
       "        [0.        , 0.        , 0.        , 0.        , 0.        ,\n",
       "         0.        , 0.        , 0.        , 0.66700456, 0.        ,\n",
       "         0.33299544, 0.        , 0.        , 0.        , 0.        ,\n",
       "         0.        ],\n",
       "        [0.        , 0.        , 0.        , 0.        , 0.        ,\n",
       "         0.        , 0.        , 0.        , 0.        , 0.71121178,\n",
       "         0.        , 0.28878822, 0.        , 0.        , 0.        ,\n",
       "         0.        ],\n",
       "        [0.        , 0.        , 0.        , 0.        , 0.        ,\n",
       "         0.        , 0.        , 0.        , 0.        , 0.        ,\n",
       "         0.76221498, 0.        , 0.23778502, 0.        , 0.        ,\n",
       "         0.        ],\n",
       "        [0.        , 0.        , 0.        , 0.        , 0.        ,\n",
       "         0.        , 0.        , 0.        , 0.        , 0.        ,\n",
       "         0.        , 0.11352254, 0.        , 0.88647746, 0.        ,\n",
       "         0.        ],\n",
       "        [0.        , 0.        , 0.        , 0.        , 0.        ,\n",
       "         0.        , 0.        , 0.        , 0.        , 0.        ,\n",
       "         0.        , 0.        , 0.2987239 , 0.        , 0.7012761 ,\n",
       "         0.        ],\n",
       "        [0.        , 0.        , 0.        , 0.        , 0.        ,\n",
       "         0.        , 0.        , 0.        , 0.        , 0.        ,\n",
       "         0.        , 0.        , 0.        , 0.58187281, 0.        ,\n",
       "         0.41812719],\n",
       "        [0.        , 0.        , 0.        , 0.        , 0.        ,\n",
       "         0.        , 0.        , 0.        , 0.        , 0.        ,\n",
       "         0.        , 0.        , 0.        , 0.        , 1.        ,\n",
       "         0.        ]]),\n",
       " array([ 4.65555556,  5.98098537, 11.05008444, 12.0304697 ,  7.45554135,\n",
       "         6.10585586,  7.54153922,  8.18490284,  7.68627755,  6.9861632 ,\n",
       "         7.59784824,  6.02149837,  5.39365609,  7.10011601,  6.45953931,\n",
       "         7.77630332]))"
      ]
     },
     "execution_count": 32,
     "metadata": {},
     "output_type": "execute_result"
    }
   ],
   "source": [
    "model.K, model.t"
   ]
  },
  {
   "cell_type": "code",
   "execution_count": null,
   "metadata": {
    "scrolled": true
   },
   "outputs": [],
   "source": [
    "model._T, counts, t"
   ]
  },
  {
   "cell_type": "code",
   "execution_count": null,
   "metadata": {},
   "outputs": [],
   "source": [
    "46911.2 / 32527, 2559.6 / 1118"
   ]
  },
  {
   "cell_type": "code",
   "execution_count": null,
   "metadata": {},
   "outputs": [],
   "source": []
  },
  {
   "cell_type": "code",
   "execution_count": null,
   "metadata": {},
   "outputs": [],
   "source": [
    "figure()\n",
    "\n",
    "cmap = mpl.cm.get_cmap('jet', len(milestones))\n",
    "\n",
    "t = 0\n",
    "for milestone, lifetime in milestone_schedule:\n",
    "    T = dt * np.arange(t, t + lifetime + 1)\n",
    "    plt.plot(T, traj[t:t+lifetime+1], c=cmap(milestone_idx[milestone]))\n",
    "    t += lifetime\n",
    "    \n",
    "plt.hlines(faces, xmin=0, xmax=t*dt, colors='gray', linestyles='dashed', linewidth=1, zorder=10)\n",
    "plt.xlim([0, dt*(t+1)])\n",
    "plt.xlabel('Time (ps)')\n",
    "_ = plt.ylabel('Reaction Coordinate ($\\mathrm{\\AA}$)')"
   ]
  },
  {
   "cell_type": "code",
   "execution_count": null,
   "metadata": {},
   "outputs": [],
   "source": [
    "milestones = set()\n",
    "for schedule in milestone_schedules:\n",
    "    milestones |= set([pair[0] for pair in schedule[1:]])\n",
    "milestones = list(milestones)"
   ]
  },
  {
   "cell_type": "code",
   "execution_count": null,
   "metadata": {},
   "outputs": [],
   "source": [
    "milestone_index = {}\n",
    "for i, milestone in enumerate(milestones):\n",
    "    milestone_index[milestone] = i\n",
    "\n",
    "mean_lifetimes = np.zeros(len(milestones))\n",
    "counts = np.zeros(len(milestones), dtype=int)\n",
    "\n",
    "for schedule in milestone_schedules:\n",
    "    for milestone, lifetime in schedule[1:-1]:\n",
    "        mean_lifetimes[milestone_index[milestone]] += lifetime\n",
    "        counts[milestone_index[milestone]] += 1\n",
    "\n",
    "mean_lifetimes /= counts\n",
    "for milestone in milestones:\n",
    "    print(milestone, mean_lifetimes[milestone_index[milestone]])"
   ]
  },
  {
   "cell_type": "code",
   "execution_count": null,
   "metadata": {},
   "outputs": [],
   "source": []
  }
 ],
 "metadata": {
  "kernelspec": {
   "display_name": "Python 3",
   "language": "python",
   "name": "python3"
  },
  "language_info": {
   "codemirror_mode": {
    "name": "ipython",
    "version": 3
   },
   "file_extension": ".py",
   "mimetype": "text/x-python",
   "name": "python",
   "nbconvert_exporter": "python",
   "pygments_lexer": "ipython3",
   "version": "3.7.7"
  }
 },
 "nbformat": 4,
 "nbformat_minor": 4
}
