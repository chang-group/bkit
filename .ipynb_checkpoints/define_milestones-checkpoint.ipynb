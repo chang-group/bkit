{
 "cells": [
  {
   "cell_type": "markdown",
   "metadata": {},
   "source": [
    "# Generate Milestones in 2D spaces\n",
    "In this notebook, you will learn how to visualize high dimensional trajectoreis in a low dimension space using PCA. You will also learn how to extract a reaction coordinates for protein/ligand dissociation. Finally, how to define and optimize milestones along the created reaction coordinates."
   ]
  },
  {
   "cell_type": "markdown",
   "metadata": {},
   "source": [
    "## Import Libraries"
   ]
  },
  {
   "cell_type": "code",
   "execution_count": 42,
   "metadata": {
    "scrolled": false
   },
   "outputs": [],
   "source": [
    "%matplotlib ipympl\n",
    "\n",
    "import bkit\n",
    "import pytraj as pt\n",
    "from sklearn.decomposition import PCA\n",
    "import matplotlib as mpl\n",
    "import matplotlib.pyplot as plt\n",
    "import numpy as np\n",
    "import pandas as pd\n",
    "import os"
   ]
  },
  {
   "cell_type": "markdown",
   "metadata": {},
   "source": [
    "# 1. Obtaining milestones from enhanced sampling or PSIM trajectories"
   ]
  },
  {
   "cell_type": "markdown",
   "metadata": {},
   "source": [
    "## 1.1 Load metadynamics/PSIM trajectories to the notebook\n",
    "In order to project high dimensional trajectories into low dimensional spaces, we start by loading the Cartesian coordinates of protein and ligand using **pytraj**."
   ]
  },
  {
   "cell_type": "code",
   "execution_count": 4,
   "metadata": {},
   "outputs": [
    {
     "name": "stdout",
     "output_type": "stream",
     "text": [
      "[ unbinding trajectory ]\n",
      "pytraj.TrajectoryIterator, 6000 frames: \n",
      "Size: 1.387507 (GB)\n",
      "<Topology: 10346 atoms, 620 residues, 3 mols, non-PBC>\n",
      "           \n",
      "[ reference ]\n",
      "pytraj.Trajectory, 1 frames: \n",
      "Size: 0.000231 (GB)\n",
      "<Topology: 10346 atoms, 620 residues, 3 mols, non-PBC>\n",
      "           \n"
     ]
    }
   ],
   "source": [
    "base_dir = '/data/CDK8CycC-PL3/'\n",
    "\n",
    "os.chdir(base_dir)\n",
    "\n",
    "traj_filenames = ['metadynamics/nowater1.dcd']\n",
    "top_filename = 'protein.prmtop'\n",
    "ref_filename = '0.pdb'\n",
    "\n",
    "# Load unbinding trajectory\n",
    "traj = pt.iterload(traj_filenames, top_filename)\n",
    "\n",
    "# Load reference structure (a 1-frame trajectory)\n",
    "ref = pt.load(ref_filename)\n",
    "\n",
    "print('[ unbinding trajectory ]\\n{}'.format(traj))\n",
    "print('[ reference ]\\n{}'.format(ref))"
   ]
  },
  {
   "cell_type": "markdown",
   "metadata": {},
   "source": [
    "## 1.2 Align the trajectory to a reference frame\n",
    "We next remove rotation and translation of the protein by aligning the protein to a reference frame. We used atomic masks to specify atoms used for alignment. The system for this tutorial is a CDK8/CycC-Ligand, where residues 1-359 is CDK8, residues 360-619 is Cyclin C, and residue 620 is the ligand.\n",
    "\n",
    "In this case, we used all the backbone atoms of the CDK8 protein (residues 1-359) to perform alignment. "
   ]
  },
  {
   "cell_type": "code",
   "execution_count": 5,
   "metadata": {},
   "outputs": [],
   "source": [
    "_ = traj.superpose(ref=ref, mask='(:1-359)&(@N,C,CA,O)')\n",
    "#_ = traj.superpose(ref=ref, mask='@CA')"
   ]
  },
  {
   "cell_type": "code",
   "execution_count": 6,
   "metadata": {},
   "outputs": [],
   "source": [
    "#pt.write_traj('aligned.dcd', traj)"
   ]
  },
  {
   "cell_type": "markdown",
   "metadata": {},
   "source": [
    "## 1.3 Reading trajectories ...\n",
    "Now we need to extract the Cartesian coordinates from the trajectory, which will be used as high-d representations of the trajectory. Here, the selected Cartesian coordiates include all the alphe carbon atoms of proteins and all the heavy atoms of the ligand.  "
   ]
  },
  {
   "cell_type": "markdown",
   "metadata": {},
   "source": [
    "We will store the Cartesian coordinates in a matrix, whose dimension is num_frames\\*(3\\*num_select_atoms). The \"3\" stands for x, y, and z coordinates of each atom."
   ]
  },
  {
   "cell_type": "code",
   "execution_count": 7,
   "metadata": {},
   "outputs": [],
   "source": [
    "mask = '@CA|:620&!@H=' # alpha carbons + ligand heavy atoms\n",
    "X = np.zeros((len(traj), 3 * ref[mask].n_atoms))\n",
    "for i, frame in enumerate(traj(mask=mask)):\n",
    "    # Here, reshape(-1) takes [[x1,y1,z1],[x2,y2,z2],...] to [x1,y1,z1,x2,y2,z2,...]\n",
    "    X[i, :] = frame.xyz.reshape(-1)"
   ]
  },
  {
   "cell_type": "markdown",
   "metadata": {},
   "source": [
    "## 1.4 Peform PCA\n",
    "Here we only generate the first two PCs by setting n_components=2"
   ]
  },
  {
   "cell_type": "code",
   "execution_count": 8,
   "metadata": {},
   "outputs": [],
   "source": [
    "pca = PCA(n_components=2).fit(X)"
   ]
  },
  {
   "cell_type": "code",
   "execution_count": 9,
   "metadata": {},
   "outputs": [
    {
     "name": "stdout",
     "output_type": "stream",
     "text": [
      "Explained variance: 76.3%\n"
     ]
    }
   ],
   "source": [
    "print('Explained variance: {:.1f}%'.format(100 * sum(pca.explained_variance_ratio_)))"
   ]
  },
  {
   "cell_type": "markdown",
   "metadata": {},
   "source": [
    "## 1.5 Visualize PCs of the reaction"
   ]
  },
  {
   "cell_type": "code",
   "execution_count": 10,
   "metadata": {
    "scrolled": true
   },
   "outputs": [
    {
     "data": {
      "application/vnd.jupyter.widget-view+json": {
       "model_id": "af12ab57c13d474d99d1dffd24bffa60",
       "version_major": 2,
       "version_minor": 0
      },
      "text/plain": [
       "Canvas(toolbar=Toolbar(toolitems=[('Home', 'Reset original view', 'home', 'home'), ('Back', 'Back to previous …"
      ]
     },
     "metadata": {},
     "output_type": "display_data"
    }
   ],
   "source": [
    "Y = np.dot(X, pca.components_.T) # project onto PCs\n",
    "\n",
    "plt.figure()\n",
    "plt.scatter(Y[:, 0], Y[:, 1], s=1, c=range(len(Y)))\n",
    "plt.xlabel('PC1'), plt.ylabel('PC2')\n",
    "cbar = plt.colorbar()\n",
    "cbar.set_label('frame #')"
   ]
  },
  {
   "cell_type": "markdown",
   "metadata": {},
   "source": [
    "## Can we distiguish between reactant and product in PC1-PC2 space?"
   ]
  },
  {
   "cell_type": "code",
   "execution_count": 16,
   "metadata": {},
   "outputs": [],
   "source": [
    "import random\n",
    "\n",
    "def sample_sphere_surface(radius=1):\n",
    "    x, y, z = (random.normalvariate(0, 1) for i in range(3))\n",
    "    scalar = radius / (x**2 + y**2 + z**2) ** 0.5\n",
    "    return (x * scalar, y * scalar, z * scalar)"
   ]
  },
  {
   "cell_type": "markdown",
   "metadata": {},
   "source": [
    "Create a sample of unbound configurations by starting from a given frame and translating the ligand 80 &#8491; in a randomly chosen direction:"
   ]
  },
  {
   "cell_type": "code",
   "execution_count": 17,
   "metadata": {},
   "outputs": [
    {
     "name": "stdout",
     "output_type": "stream",
     "text": [
      "pytraj.Trajectory, 500 frames: \n",
      "Size: 0.115626 (GB)\n",
      "<Topology: 10346 atoms, 620 residues, 3 mols, non-PBC>\n",
      "           \n"
     ]
    }
   ],
   "source": [
    "f0 = traj[4800]\n",
    "\n",
    "ligand_indices = [a.index for a in ref.top if a.resid == 619]\n",
    "\n",
    "t = pt.Trajectory(top=ref.top)\n",
    "\n",
    "for _ in range(500):\n",
    "    t.append(f0)\n",
    "    x = sample_sphere_surface(radius=80)\n",
    "    t.xyz[-1, ligand_indices, :] += x\n",
    "    \n",
    "print(t)"
   ]
  },
  {
   "cell_type": "markdown",
   "metadata": {},
   "source": [
    "Save configurations for visual inspection:"
   ]
  },
  {
   "cell_type": "code",
   "execution_count": 18,
   "metadata": {},
   "outputs": [],
   "source": [
    "#pt.write_traj('random_unbound.dcd', t, overwrite=True)"
   ]
  },
  {
   "cell_type": "markdown",
   "metadata": {},
   "source": [
    "Align to reference frame. (This shouldn't actually do anything, since only the ligand coordinates were perturbed.)"
   ]
  },
  {
   "cell_type": "code",
   "execution_count": 19,
   "metadata": {},
   "outputs": [],
   "source": [
    "t = t.superpose(ref=ref, mask='(:1-359)&(@N,C,CA,O)')"
   ]
  },
  {
   "cell_type": "markdown",
   "metadata": {},
   "source": [
    "Extract coordinates of alpha carbons + ligand heavy atoms:"
   ]
  },
  {
   "cell_type": "code",
   "execution_count": 20,
   "metadata": {
    "scrolled": true
   },
   "outputs": [
    {
     "name": "stdout",
     "output_type": "stream",
     "text": [
      "(500, 1935)\n"
     ]
    }
   ],
   "source": [
    "mask = '@CA|:620&!@H=' # alpha carbons + ligand heavy atoms\n",
    "X_ = np.zeros((len(t), 3 * ref[mask].n_atoms))\n",
    "for i, frame in enumerate(t(mask=mask)):\n",
    "    # Here, reshape(-1) takes [[x1,y1,z1],[x2,y2,z2],...] to [x1,y1,z1,x2,y2,z2,...]\n",
    "    X_[i, :] = frame.xyz.reshape(-1)\n",
    "    \n",
    "print(X_.shape)"
   ]
  },
  {
   "cell_type": "markdown",
   "metadata": {},
   "source": [
    "Project onto original PCs:"
   ]
  },
  {
   "cell_type": "code",
   "execution_count": 21,
   "metadata": {},
   "outputs": [],
   "source": [
    "Y_ = np.dot(X_, pca.components_.T)"
   ]
  },
  {
   "cell_type": "code",
   "execution_count": 22,
   "metadata": {},
   "outputs": [
    {
     "data": {
      "application/vnd.jupyter.widget-view+json": {
       "model_id": "5b9f120e50d14ee7a0a1c33e096d58fb",
       "version_major": 2,
       "version_minor": 0
      },
      "text/plain": [
       "Canvas(toolbar=Toolbar(toolitems=[('Home', 'Reset original view', 'home', 'home'), ('Back', 'Back to previous …"
      ]
     },
     "metadata": {},
     "output_type": "display_data"
    }
   ],
   "source": [
    "plt.figure()\n",
    "plt.scatter(Y[:, 0], Y[:, 1], s=1, c=range(len(Y)), cmap=mpl.cm.gray_r)\n",
    "\n",
    "plt.xlabel('PC1'), plt.ylabel('PC2')\n",
    "cbar = plt.colorbar()\n",
    "cbar.set_label('frame #')\n",
    "\n",
    "xlim, ylim = plt.gca().get_xlim(), plt.gca().get_ylim()\n",
    "\n",
    "plt.scatter(Y_[:, 0], Y_[:, 1], s=1, color='red', label='random unbound')\n",
    "_ = plt.legend()"
   ]
  },
  {
   "cell_type": "code",
   "execution_count": 23,
   "metadata": {},
   "outputs": [
    {
     "data": {
      "application/vnd.jupyter.widget-view+json": {
       "model_id": "b775df25cba64f75982ca935d75cb273",
       "version_major": 2,
       "version_minor": 0
      },
      "text/plain": [
       "Canvas(toolbar=Toolbar(toolitems=[('Home', 'Reset original view', 'home', 'home'), ('Back', 'Back to previous …"
      ]
     },
     "metadata": {},
     "output_type": "display_data"
    }
   ],
   "source": [
    "plt.figure()\n",
    "\n",
    "plt.scatter(Y[:, 0], Y[:, 1], s=1, c=range(len(Y)), cmap=mpl.cm.gray_r)\n",
    "\n",
    "plt.xlabel('PC1'), plt.ylabel('PC2')\n",
    "cbar = plt.colorbar()\n",
    "cbar.set_label('frame #')\n",
    "\n",
    "plt.scatter(Y_[:, 0], Y_[:, 1], s=4, color='red', label='random unbound')\n",
    "\n",
    "plt.xlim(xlim), plt.ylim(ylim)\n",
    "\n",
    "_ = plt.legend()"
   ]
  },
  {
   "cell_type": "markdown",
   "metadata": {},
   "source": [
    "## 1.6 Obtain final reaction path"
   ]
  },
  {
   "cell_type": "markdown",
   "metadata": {},
   "source": [
    "### 1.6.1 Generate smooth trajectory\n",
    "We then use the low-d projections to sketch a reaction coordinate. A smooth path is generated by averaging frames in the before and after 100 steps of each frame,"
   ]
  },
  {
   "cell_type": "code",
   "execution_count": 11,
   "metadata": {},
   "outputs": [],
   "source": [
    "n_steps = 100\n",
    "smoothpath = []\n",
    "for i in range(len(Y)):\n",
    "    start, stop = max(0, i - n_steps), min(len(Y), i + 1 + n_steps)\n",
    "    smoothpath.append(Y[start:stop].mean(axis=0))\n",
    "smoothpath = np.asarray(smoothpath)"
   ]
  },
  {
   "cell_type": "code",
   "execution_count": 12,
   "metadata": {
    "scrolled": false
   },
   "outputs": [
    {
     "data": {
      "application/vnd.jupyter.widget-view+json": {
       "model_id": "789ace8ea8004a5dbbbf77239aa4e689",
       "version_major": 2,
       "version_minor": 0
      },
      "text/plain": [
       "Canvas(toolbar=Toolbar(toolitems=[('Home', 'Reset original view', 'home', 'home'), ('Back', 'Back to previous …"
      ]
     },
     "metadata": {},
     "output_type": "display_data"
    }
   ],
   "source": [
    "plt.figure()\n",
    "\n",
    "plt.scatter(Y[:, 0], Y[:, 1], s=1, c=range(len(Y)))\n",
    "plt.xlabel('PC1'), plt.ylabel('PC2')\n",
    "cbar = plt.colorbar()\n",
    "cbar.set_label('frame #')\n",
    "\n",
    "plt.plot(smoothpath[:, 0],smoothpath[:, 1], color='r', label='smoothed trajectory')\n",
    "plt.legend()\n",
    "plt.show()"
   ]
  },
  {
   "cell_type": "markdown",
   "metadata": {},
   "source": [
    "### 1.6.2 Detemine reaction path\n",
    "Next, we are going to use a interactive tool to refine the reactioon path by avoiding the convoluted loops. Note that we call the interactive ploting interface using **matplotlib notebbok**. However, sometimes it takes multiple attempts to activate the interactive interface, i.e. you need to execute this cell multiple times until the interactive graphic panel comes up. Once the drawing panel comes up, use your mouse to move the cruiser, and left click to add green point along the smooth path. Note that all the convoluted loops should be escape. Once finished, move one to the next cell."
   ]
  },
  {
   "cell_type": "code",
   "execution_count": 13,
   "metadata": {},
   "outputs": [],
   "source": [
    "projections = Y"
   ]
  },
  {
   "cell_type": "code",
   "execution_count": 43,
   "metadata": {
    "scrolled": false
   },
   "outputs": [
    {
     "data": {
      "application/vnd.jupyter.widget-view+json": {
       "model_id": "218d8a27b378456392d89ec7cfd5f6d1",
       "version_major": 2,
       "version_minor": 0
      },
      "text/plain": [
       "Canvas(toolbar=Toolbar(toolitems=[('Home', 'Reset original view', 'home', 'home'), ('Back', 'Back to previous …"
      ]
     },
     "metadata": {},
     "output_type": "display_data"
    }
   ],
   "source": [
    "if fig:\n",
    "    plt.close(fig)\n",
    "    \n",
    "fig = plt.figure(figsize=(10,8))\n",
    "plt.scatter(projections[:,0],projections[:,1],\n",
    "        marker='o', s = 5, c='gray',\n",
    "        alpha=0.5, zorder=0\n",
    "        )\n",
    "plt.scatter(smoothpath[:,0],smoothpath[:,1],s=3,\n",
    "            c=range(len(smoothpath)),\n",
    "            label='smoothed trajectory',\n",
    "            zorder=5\n",
    "           )\n",
    "line, = plt.plot([], [],marker='o',color='k',markerfacecolor='lawngreen', zorder=10)  # empty line\n",
    "linebuilder = bkit.LineBuilder(line)\n",
    "plt.show()"
   ]
  },
  {
   "cell_type": "markdown",
   "metadata": {},
   "source": [
    "save temporary path (positions of the green dots)"
   ]
  },
  {
   "cell_type": "code",
   "execution_count": 22,
   "metadata": {},
   "outputs": [],
   "source": [
    "path_id = 0  # specify which path you want to write/load"
   ]
  },
  {
   "cell_type": "code",
   "execution_count": 44,
   "metadata": {
    "scrolled": true
   },
   "outputs": [
    {
     "name": "stdout",
     "output_type": "stream",
     "text": [
      "mkdir: cannot create directory ‘Milestone_0’: File exists\r\n"
     ]
    }
   ],
   "source": [
    "milestone_path = 'Milestone_%d'%path_id\n",
    "%mkdir {milestone_path}\n",
    "\n",
    "x1 = np.array([linebuilder.xs]).T\n",
    "x2 = np.array([linebuilder.ys]).T\n",
    "idx = np.array([range(len(x1))]).T\n",
    "path_noloop = np.hstack((idx,x1))\n",
    "path_noloop = np.hstack((path_noloop,x2))\n",
    "\n",
    "#write path to temppath.txt\n",
    "test = open(milestone_path+'/temppath.txt', \"w+\")\n",
    "for i in range(len(path_noloop)):\n",
    "    print(\"%s\\t%s\\t%s\" %(i,path_noloop[i,1],path_noloop[i,2]), file=test)\n",
    "test.close()"
   ]
  },
  {
   "cell_type": "markdown",
   "metadata": {},
   "source": [
    "load the temporary path"
   ]
  },
  {
   "cell_type": "code",
   "execution_count": 46,
   "metadata": {},
   "outputs": [
    {
     "data": {
      "application/vnd.jupyter.widget-view+json": {
       "model_id": "0dbed19222804d419c4ba2ed1b42e52f",
       "version_major": 2,
       "version_minor": 0
      },
      "text/plain": [
       "Canvas(toolbar=Toolbar(toolitems=[('Home', 'Reset original view', 'home', 'home'), ('Back', 'Back to previous …"
      ]
     },
     "metadata": {},
     "output_type": "display_data"
    }
   ],
   "source": [
    "path_noloop = np.asarray( pd.read_csv(milestone_path+'/temppath.txt', header=None, delimiter=r\"\\s+\") )\n",
    "\n",
    "fig = plt.figure()\n",
    "plt.scatter(smoothpath[:,0],smoothpath[:,1],s=3,\n",
    "            c=range(int(len(smoothpath))),label='smooth path')\n",
    "cbar = plt.colorbar()\n",
    "cbar.set_label('frame #')\n",
    "\n",
    "plt.scatter(path_noloop[:,1],path_noloop[:,2],s=5,c='r', label='smooth path w/o loops')\n",
    "plt.legend()\n",
    "plt.show()"
   ]
  },
  {
   "cell_type": "markdown",
   "metadata": {},
   "source": [
    "### 1.6.3 Path Interpolation\n",
    "Now we have generated a few nodes along the smooth path, but the interval between nodes are still quite large. We use spline interpolation to connect nodes and generate a final smooth path w/o loops."
   ]
  },
  {
   "cell_type": "code",
   "execution_count": 47,
   "metadata": {},
   "outputs": [
    {
     "data": {
      "application/vnd.jupyter.widget-view+json": {
       "model_id": "53002fd4bc8b4d3b84a150f5a0c75981",
       "version_major": 2,
       "version_minor": 0
      },
      "text/plain": [
       "Canvas(toolbar=Toolbar(toolitems=[('Home', 'Reset original view', 'home', 'home'), ('Back', 'Back to previous …"
      ]
     },
     "metadata": {},
     "output_type": "display_data"
    }
   ],
   "source": [
    "finalpath = bkit.interpolateCurve(np.asarray(path_noloop),500)\n",
    "plt.figure(figsize=(10,8))\n",
    "plt.plot(smoothpath[:,0],smoothpath[:,1],\n",
    "        color='r',label='smooth path from 1.6.1')\n",
    "plt.plot(finalpath[:,0],finalpath[:,1],\n",
    "         color='lawngreen',label='interpolation fn w/o loops') #interpolation fn\n",
    "plt.xlabel('PC1', fontsize=16)\n",
    "plt.ylabel('PC2', fontsize=16)\n",
    "plt.legend(fontsize=16)\n",
    "plt.tick_params(labelsize=16)\n",
    "plt.show()"
   ]
  },
  {
   "cell_type": "markdown",
   "metadata": {},
   "source": [
    "### 1.6.4 Fine tune the final path\n",
    "By default, the interpolated smooth curve contains 500 points, we select one of every n_milestone points as a center of milestones "
   ]
  },
  {
   "cell_type": "code",
   "execution_count": 48,
   "metadata": {},
   "outputs": [
    {
     "data": {
      "application/vnd.jupyter.widget-view+json": {
       "model_id": "0580412de4ba4cbdbfb3e85d7e906f5f",
       "version_major": 2,
       "version_minor": 0
      },
      "text/plain": [
       "Canvas(toolbar=Toolbar(toolitems=[('Home', 'Reset original view', 'home', 'home'), ('Back', 'Back to previous …"
      ]
     },
     "metadata": {},
     "output_type": "display_data"
    }
   ],
   "source": [
    "n_milestone = 5\n",
    "fp = finalpath[::n_milestone]\n",
    "\n",
    "finalpath = bkit.interpolateCurve(np.asarray(path_noloop),500)\n",
    "plt.figure(figsize=(8,8))\n",
    "plt.scatter(fp[:,0],fp[:,1],marker='o',s=5,c='k') #dots\n",
    "plt.plot(finalpath[:,0],finalpath[:,1],color='magenta',linewidth=1) #interpolation fn\n",
    "plt.xlabel('PC1')\n",
    "plt.ylabel('PC2')\n",
    "plt.show()"
   ]
  },
  {
   "cell_type": "markdown",
   "metadata": {},
   "source": [
    "Save the centers of milestones as finalpath.txt. You run this cell \"ONLY\" when the you create the center of the milestones. If you've already generated the finalpath.txt previously, then skip this cell."
   ]
  },
  {
   "cell_type": "code",
   "execution_count": 49,
   "metadata": {},
   "outputs": [],
   "source": [
    "file = open(milestone_path+'/finalpath.txt', \"w+\")\n",
    "for i in range(len(fp)):\n",
    "    print(\"%s\\t%s\\t%s\" %(i,fp[i,0],fp[i,1]), file=file)\n",
    "file.close()"
   ]
  },
  {
   "cell_type": "markdown",
   "metadata": {},
   "source": [
    "Load the saved finalpath.txt"
   ]
  },
  {
   "cell_type": "code",
   "execution_count": 50,
   "metadata": {},
   "outputs": [
    {
     "data": {
      "text/plain": [
       "(100, 2)"
      ]
     },
     "execution_count": 50,
     "metadata": {},
     "output_type": "execute_result"
    }
   ],
   "source": [
    "path = pd.read_csv(milestone_path+'/finalpath.txt', header=None, delimiter=r\"\\s+\")\n",
    "fp = np.asarray(path)\n",
    "fp = fp[:,1:3]\n",
    "fp.shape"
   ]
  },
  {
   "cell_type": "markdown",
   "metadata": {},
   "source": [
    "#### Now let's put everything we've worked out so far together. The percentage in the plotting panel is the ratio of variance explained by PC1 and PC2."
   ]
  },
  {
   "cell_type": "code",
   "execution_count": 51,
   "metadata": {},
   "outputs": [
    {
     "data": {
      "application/vnd.jupyter.widget-view+json": {
       "model_id": "91bbd45d4675408e96e17c5ef02eace8",
       "version_major": 2,
       "version_minor": 0
      },
      "text/plain": [
       "Canvas(toolbar=Toolbar(toolitems=[('Home', 'Reset original view', 'home', 'home'), ('Back', 'Back to previous …"
      ]
     },
     "metadata": {},
     "output_type": "display_data"
    }
   ],
   "source": [
    "sum_var = sum(pca.explained_variance_ratio_)\n",
    "\n",
    "fig, ax = plt.subplots(ncols=1, nrows=1,figsize=(10,8))\n",
    "plt.scatter(projections[:,0],projections[:,1],\n",
    "        marker='o', s = 5,\n",
    "        c=range(int(len(projections))),\n",
    "        alpha=0.5, zorder=0, cmap='Blues'\n",
    "        )\n",
    "# plt.blue()\n",
    "\n",
    "plt.plot(smoothpath[:,0],smoothpath[:,1],linewidth=3,\n",
    "        color='r',label='smooth path from 1.6.1', zorder=5)\n",
    "\n",
    "plt.scatter(fp[::2,0],fp[::2,1],\n",
    "         c='lawngreen',s=70,\n",
    "        edgecolor='k',label='interpolation fn w/o loops',zorder=10) #interpolation fn\n",
    "\n",
    "plt.annotate(text=\"%.1f\"%(sum_var*100)+'%',\n",
    "             xy=(-15,max(projections[:,1])-5),\n",
    "             **dict(size=24, color='k'))\n",
    "ax.set_xticks(range(int(min(projections[:,0]))-5, int(max(projections[:,0]))+5, 25))\n",
    "\n",
    "plt.xlabel('PC1', fontsize=16)\n",
    "plt.ylabel('PC2',fontsize=16)\n",
    "plt.tick_params(labelsize=16)\n",
    "plt.legend()\n",
    "plt.show()"
   ]
  },
  {
   "cell_type": "markdown",
   "metadata": {},
   "source": [
    "## 1.7 Find initial milestones as a norm of the smoothed path\n",
    "Initially, milestone lines are simply vertical lines with length = sc along the final smooth path. Without furthur optimization, several milestone lines overlap."
   ]
  },
  {
   "cell_type": "code",
   "execution_count": 52,
   "metadata": {},
   "outputs": [],
   "source": [
    "# generate norms along the path\n",
    "slope = bkit.findnorm(fp)\n",
    "slope_opt = np.empty_like(slope)\n",
    "slope_opt[:]=slope\n",
    "\n",
    "# radiaus = sc/2\n",
    "sc = 20 \n",
    "\n",
    "# coordinates of milestones on the path\n",
    "X = fp[:,0].reshape(len(fp),1)\n",
    "Y = fp[:,1].reshape(len(fp),1)\n",
    "\n",
    "# slope matrix NxN\n",
    "M = np.zeros((len(slope_opt),len(slope_opt)))\n",
    "np.fill_diagonal(M,slope_opt)\n",
    "\n",
    "# boundary of milestones in x-axis Nx1\n",
    "dX = np.sqrt((sc/2)**2/(1+slope_opt**2)).reshape(len(fp),1)\n",
    "Xp = X + dX\n",
    "Xn = X - dX\n",
    "\n",
    "# boundary of milestones in y-axis Nx1\n",
    "Yp = Y + np.dot(M,dX)\n",
    "Yn = Y - np.dot(M,dX)\n",
    "bkit.CorrectXYnp(Xp,Yp,Xn,Yn, slope_opt)"
   ]
  },
  {
   "cell_type": "code",
   "execution_count": 53,
   "metadata": {},
   "outputs": [
    {
     "data": {
      "application/vnd.jupyter.widget-view+json": {
       "model_id": "3feae0de47a54c14ad5cc602f3cfae06",
       "version_major": 2,
       "version_minor": 0
      },
      "text/plain": [
       "Canvas(toolbar=Toolbar(toolitems=[('Home', 'Reset original view', 'home', 'home'), ('Back', 'Back to previous …"
      ]
     },
     "metadata": {},
     "output_type": "display_data"
    }
   ],
   "source": [
    "plt.figure()\n",
    "plt.scatter(X, Y, c='magenta',s=5, label='final path')\n",
    "\n",
    "for i in range(len(X)):\n",
    "    if i==0:\n",
    "        plt.plot([Xn[i,0], Xp[i,0]],[Yn[i,0], Yp[i,0]],'-',\n",
    "             color='black', linewidth=0.5,label='initial milestones')\n",
    "    else:\n",
    "        plt.plot([Xn[i,0], Xp[i,0]],[Yn[i,0], Yp[i,0]],\n",
    "                 '-',color='black', linewidth=0.5)\n",
    "        if i%10==0:\n",
    "            plt.annotate(i, (1.5*(Xn[i]-X[i])+X[i],1.5*(Yn[i]-Y[i])+Y[i]),\n",
    "                        **dict(size=12, color='r'))\n",
    "plt.legend(fontsize=16)\n",
    "plt.xlabel('PC1', fontsize=16)\n",
    "plt.ylabel('PC2',fontsize=16)\n",
    "plt.tick_params()\n",
    "plt.show()"
   ]
  },
  {
   "cell_type": "markdown",
   "metadata": {},
   "source": [
    "## 1.8 Optimize the slopes of the milestones to minimize overlapping\n",
    "Here we perform both global and local optimization of the slopes of milestones to 1) avoid crossing of milestone and 2) to make sure all the milestone cells are trapezoid. 2) is critical for the later algorithm used for indexing frames according to their projections on the PC1/PC2 space. "
   ]
  },
  {
   "cell_type": "markdown",
   "metadata": {},
   "source": [
    "### global optimization\n",
    "All the milestones will be adjusted simultanesouly to minimize overlapping. The **OptMileStone** module will adjust slopes of all the milestones *n_iter* times. Warning: the global optimization algorithm is not perfect. If you set *n_iter* too large, milestones will look very funny. In contrast, you should set *n_iter* 0-20, and check the milestones everytime. This part should be repeated until you start seeing weird transformation of the milestones.\n",
    "\n",
    "When you reach the limit of the global optimization (either it stops improving or becomes worse), you should stop and move on to the **local optimization** to manually adjust the rest of the milestones if needed."
   ]
  },
  {
   "cell_type": "code",
   "execution_count": 54,
   "metadata": {},
   "outputs": [],
   "source": [
    "n_iter = 20"
   ]
  },
  {
   "cell_type": "code",
   "execution_count": 55,
   "metadata": {},
   "outputs": [
    {
     "data": {
      "application/vnd.jupyter.widget-view+json": {
       "model_id": "f39636bf583445f3864cc4b168508499",
       "version_major": 2,
       "version_minor": 0
      },
      "text/plain": [
       "Canvas(toolbar=Toolbar(toolitems=[('Home', 'Reset original view', 'home', 'home'), ('Back', 'Back to previous …"
      ]
     },
     "metadata": {},
     "output_type": "display_data"
    }
   ],
   "source": [
    "# Optimizing slopes of the milestones\n",
    "slope_opt = bkit.OptMileStone(X,Y,Xp,Yp,Xn,Yn,slope_opt,0.05, n_iter)\n",
    "\n",
    "#slope matrix NxN\n",
    "M = np.zeros((len(slope_opt),len(slope_opt)))\n",
    "np.fill_diagonal(M,slope_opt)\n",
    "# boundary of milestones in x-axis and y-axis Nx1\n",
    "dX = np.sqrt((sc/2)**2/(1+slope_opt**2))\n",
    "Xp, Xn = [X + dX, X - dX]\n",
    "Yp, Yn = [Y + np.dot(M,dX), Y - np.dot(M,dX)]\n",
    "\n",
    "bkit.CorrectXYnp(Xp,Yp,Xn,Yn,slope_opt)\n",
    "if (X[1]-X[0] > 0 and Yp[0]-Y[0]<0) or (X[1]-X[0] < 0 and Yp[0]-Y[0]>0):\n",
    "    A, B = [Xp.copy(), Yp.copy()]\n",
    "    C, D = [Xn.copy(), Yn.copy()]\n",
    "    Xp, Yp, Xn, Yn = [C, D, A, B]\n",
    "    \n",
    "# Plot adjusted milestones   \n",
    "plt.figure()\n",
    "plt.scatter(X, Y, c='magenta',s=5, label='final path')\n",
    "\n",
    "for i in range(len(X)):\n",
    "    if i==0:\n",
    "        plt.plot([Xn[i,0], Xp[i,0]],[Yn[i,0], Yp[i,0]],'-',\n",
    "             color='black', linewidth=0.5,label='initial milestones')\n",
    "    else:\n",
    "        plt.plot([Xn[i,0], Xp[i,0]],[Yn[i,0], Yp[i,0]],\n",
    "                 '-',color='black', linewidth=0.5)\n",
    "        if i%10==0:\n",
    "            plt.annotate(i, (1.5*(Xn[i]-X[i])+X[i],1.5*(Yn[i]-Y[i])+Y[i]),\n",
    "                        **dict(size=12, color='r'))\n",
    "plt.legend(fontsize=16)\n",
    "plt.xlabel('PC1', fontsize=16)\n",
    "plt.ylabel('PC2',fontsize=16)\n",
    "plt.tick_params()\n",
    "plt.show()"
   ]
  },
  {
   "cell_type": "markdown",
   "metadata": {},
   "source": [
    "### local optimization\n",
    "In this section, you need to select certain milestone(s) whose slopes needed to be increased or decreased. First, you want to identify milestones to be adjested. By specifying the range of milestones between *ini* and *fin*, you can see the selected milestones colored in red. For example, if ini=21 and fin=25, only milestones 21, 22, 23, 24, and 25 will be adjusted."
   ]
  },
  {
   "cell_type": "code",
   "execution_count": null,
   "metadata": {},
   "outputs": [],
   "source": [
    "ini, fin = [67,67] # specify milestones to proceed the local optimization  \n",
    "\n",
    "plt.figure(figsize=(12,10))\n",
    "plt.scatter(X, Y, c='magenta',s=5, label='final path')\n",
    "\n",
    "for i in range(ini, fin+1):\n",
    "    plt.plot([Xn[i,0], Xp[i,0]],[Yn[i,0], Yp[i,0]],'-',\n",
    "             color='r', linewidth=1, zorder=2)\n",
    "\n",
    "for i in range(len(X)):\n",
    "    if i==0:\n",
    "        plt.plot([Xn[i,0], Xp[i,0]],[Yn[i,0], Yp[i,0]],'-',\n",
    "             color='black', linewidth=0.5,label='initial milestones')\n",
    "    else:\n",
    "        plt.plot([Xn[i,0], Xp[i,0]],[Yn[i,0], Yp[i,0]],\n",
    "                 '-',color='black', linewidth=0.5)\n",
    "        if i%10==0:\n",
    "            plt.annotate(i, (1.5*(Xn[i]-X[i])+X[i],1.5*(Yn[i]-Y[i])+Y[i]),\n",
    "                        **dict(size=12, color='r'))\n",
    "plt.legend(fontsize=16)\n",
    "plt.xlabel('PC1', fontsize=16)\n",
    "plt.ylabel('PC2',fontsize=16)\n",
    "plt.tick_params()\n",
    "plt.show()"
   ]
  },
  {
   "cell_type": "markdown",
   "metadata": {},
   "source": [
    "If you want to increase the slopes of the selected milestones, set increase = True. Set increase = False to decrease the slopes. You can also specify the strength of the local optimization. The *strength* range from 0 to 0.99, the higher the strength the more the slope change. You can also invert the sign of the slope by specifying *flip = True*."
   ]
  },
  {
   "cell_type": "code",
   "execution_count": null,
   "metadata": {},
   "outputs": [],
   "source": [
    "slope_opt[ini]"
   ]
  },
  {
   "cell_type": "code",
   "execution_count": null,
   "metadata": {},
   "outputs": [],
   "source": [
    "flip = False\n",
    "increase = False\n",
    "strength = 0.1\n",
    "\n",
    "\n",
    "for i in range(ini, fin+1):\n",
    "    if flip:\n",
    "        slope_opt[i] *= -1\n",
    "    if increase:\n",
    "        slope_opt[i] /= (1-strength) \n",
    "    else:\n",
    "        slope_opt[i] *= (1-strength)\n",
    "\n",
    "#slope matrix NxN\n",
    "M = np.zeros((len(slope_opt),len(slope_opt)))\n",
    "np.fill_diagonal(M,slope_opt)\n",
    "# boundary of milestones in x-axis and y-axis Nx1\n",
    "dX = np.sqrt((sc/2)**2/(1+slope_opt**2))\n",
    "Xp, Xn = [X + dX, X - dX]\n",
    "Yp, Yn = [Y + np.dot(M,dX), Y - np.dot(M,dX)]\n",
    "\n",
    "CorrectXYnp(Xp,Yp,Xn,Yn, slope_opt)\n",
    "if (X[1]-X[0] > 0 and Yp[0]-Y[0]<0) or (X[1]-X[0] < 0 and Yp[0]-Y[0]>0):\n",
    "    A, B = [Xp.copy(), Yp.copy()]\n",
    "    C, D = [Xn.copy(), Yn.copy()]\n",
    "    Xp, Yp, Xn, Yn = [C, D, A, B]\n",
    "    \n",
    "# Plot adjusted milestones   \n",
    "plt.figure(figsize=(12,10))\n",
    "plt.scatter(X, Y, c='magenta',s=5, label='final path')\n",
    "\n",
    "for i in range(ini, fin+1):\n",
    "    plt.plot([Xn[i,0], Xp[i,0]],[Yn[i,0], Yp[i,0]],'-',\n",
    "             color='r', linewidth=1, zorder=2)\n",
    "\n",
    "for i in range(len(X)):\n",
    "    if i==0:\n",
    "        plt.plot([Xn[i,0], Xp[i,0]],[Yn[i,0], Yp[i,0]],'-',\n",
    "             color='black', linewidth=0.5,label='initial milestones')\n",
    "    else:\n",
    "        plt.plot([Xn[i,0], Xp[i,0]],[Yn[i,0], Yp[i,0]],\n",
    "                 '-',color='black', linewidth=0.5)\n",
    "        if i%10==0:\n",
    "            plt.annotate(i, (1.5*(Xn[i]-X[i])+X[i],1.5*(Yn[i]-Y[i])+Y[i]),\n",
    "                        **dict(size=12, color='r'))\n",
    "plt.legend(fontsize=16)\n",
    "plt.xlabel('PC1', fontsize=16)\n",
    "plt.ylabel('PC2',fontsize=16)\n",
    "plt.tick_params()\n",
    "plt.show()"
   ]
  },
  {
   "cell_type": "markdown",
   "metadata": {},
   "source": [
    "Once you are satisfied with the milestone lines, save the slopes of each milestone in milestone_slopes.npy. You only need to run this cell when building the milestone lines."
   ]
  },
  {
   "cell_type": "code",
   "execution_count": 56,
   "metadata": {},
   "outputs": [],
   "source": [
    "np.save(milestone_path+'milestone_slopes.npy',slope_opt)"
   ]
  },
  {
   "cell_type": "markdown",
   "metadata": {},
   "source": [
    "Load the optimized milestone slopes. Once you've saved the optimized milestone slope, you can use it to construct the milestone everytime."
   ]
  },
  {
   "cell_type": "code",
   "execution_count": 57,
   "metadata": {},
   "outputs": [],
   "source": [
    "slope_opt = np.load(milestone_path+'milestone_slopes.npy')"
   ]
  },
  {
   "cell_type": "code",
   "execution_count": 58,
   "metadata": {},
   "outputs": [
    {
     "data": {
      "application/vnd.jupyter.widget-view+json": {
       "model_id": "e3cf014803884890a97c4d9364c430c8",
       "version_major": 2,
       "version_minor": 0
      },
      "text/plain": [
       "Canvas(toolbar=Toolbar(toolitems=[('Home', 'Reset original view', 'home', 'home'), ('Back', 'Back to previous …"
      ]
     },
     "metadata": {},
     "output_type": "display_data"
    }
   ],
   "source": [
    "plt.figure(figsize=(10,8))\n",
    "plt.scatter(X, Y, c='magenta',s=5, label='final path')\n",
    "\n",
    "for i in range(len(X)):\n",
    "    if i==0:\n",
    "        plt.plot([Xn[i,0], Xp[i,0]],[Yn[i,0], Yp[i,0]],'-',\n",
    "             color='black', linewidth=0.5,label='milestones')\n",
    "    else:\n",
    "        plt.plot([Xn[i,0], Xp[i,0]],[Yn[i,0], Yp[i,0]],\n",
    "                 '-',color='black', linewidth=0.5)\n",
    "        if i%10==0:\n",
    "            plt.annotate(i, (1.5*(Xn[i]-X[i])+X[i],1.5*(Yn[i]-Y[i])+Y[i]),\n",
    "                        **dict(size=12, color='r'))\n",
    "plt.legend(fontsize=16)\n",
    "plt.xlabel('PC1', fontsize=16)\n",
    "plt.ylabel('PC2',fontsize=16)\n",
    "plt.tick_params(labelsize=12)\n",
    "plt.show()"
   ]
  },
  {
   "cell_type": "code",
   "execution_count": null,
   "metadata": {},
   "outputs": [],
   "source": []
  }
 ],
 "metadata": {
  "kernelspec": {
   "display_name": "Python 3",
   "language": "python",
   "name": "python3"
  },
  "language_info": {
   "codemirror_mode": {
    "name": "ipython",
    "version": 3
   },
   "file_extension": ".py",
   "mimetype": "text/x-python",
   "name": "python",
   "nbconvert_exporter": "python",
   "pygments_lexer": "ipython3",
   "version": "3.7.7"
  }
 },
 "nbformat": 4,
 "nbformat_minor": 2
}
