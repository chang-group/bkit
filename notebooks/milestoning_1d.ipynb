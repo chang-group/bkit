{
 "cells": [
  {
   "cell_type": "code",
   "execution_count": 85,
   "metadata": {},
   "outputs": [],
   "source": [
    "%matplotlib ipympl\n",
    "\n",
    "import joblib\n",
    "import matplotlib.pyplot as plt\n",
    "import matplotlib as mpl\n",
    "import numpy as np\n",
    "import scipy.linalg\n",
    "import msmtools.estimation"
   ]
  },
  {
   "cell_type": "code",
   "execution_count": 86,
   "metadata": {},
   "outputs": [],
   "source": [
    "import sys\n",
    "sys.path.append('..')\n",
    "from bkit.milestoning import MilestoningModel"
   ]
  },
  {
   "cell_type": "code",
   "execution_count": 87,
   "metadata": {},
   "outputs": [],
   "source": [
    "trajs = []\n",
    "traj_ids = []\n",
    "\n",
    "p = '/data/p38a-SB2/short_md/{}/x.joblib'\n",
    "for v in ['bound', 'path1']:\n",
    "    fn = p.format(v)\n",
    "    data = joblib.load(fn)\n",
    "    for traj_id, traj in data.items():\n",
    "        trajs.append(traj[:, np.newaxis])\n",
    "        traj_ids.append((v, traj_id[0], traj_id[1]))        "
   ]
  },
  {
   "cell_type": "code",
   "execution_count": 88,
   "metadata": {},
   "outputs": [
    {
     "data": {
      "application/vnd.jupyter.widget-view+json": {
       "model_id": "e450ff1bade44e6ebfd49803248a9e85",
       "version_major": 2,
       "version_minor": 0
      },
      "text/plain": [
       "Canvas(toolbar=Toolbar(toolitems=[('Home', 'Reset original view', 'home', 'home'), ('Back', 'Back to previous …"
      ]
     },
     "metadata": {},
     "output_type": "display_data"
    }
   ],
   "source": [
    "plt.figure()\n",
    "\n",
    "n, bins, _ = plt.hist(np.concatenate(trajs), 1000, density=True, histtype='step')\n",
    "plt.ylabel('Empirical Density')\n",
    "_ = plt.xlabel('Reaction Coordinate ($\\mathrm{\\AA}$)')"
   ]
  },
  {
   "cell_type": "code",
   "execution_count": 89,
   "metadata": {},
   "outputs": [],
   "source": [
    "anchors = np.arange(14.0, 29.0, 1.0)[:, np.newaxis]"
   ]
  },
  {
   "cell_type": "code",
   "execution_count": 90,
   "metadata": {},
   "outputs": [],
   "source": [
    "model = MilestoningModel(anchors)\n",
    "model.load_trajectory_data(trajs, dt=0.1)"
   ]
  },
  {
   "cell_type": "code",
   "execution_count": 91,
   "metadata": {},
   "outputs": [
    {
     "name": "stdout",
     "output_type": "stream",
     "text": [
      "True\n"
     ]
    }
   ],
   "source": [
    "print(model.is_resolved)"
   ]
  },
  {
   "cell_type": "code",
   "execution_count": 92,
   "metadata": {},
   "outputs": [],
   "source": [
    "model.estimate()"
   ]
  },
  {
   "cell_type": "code",
   "execution_count": 93,
   "metadata": {
    "scrolled": true
   },
   "outputs": [
    {
     "name": "stdout",
     "output_type": "stream",
     "text": [
      "[[0.         1.         0.         ... 0.         0.         0.        ]\n",
      " [0.06470062 0.         0.93529938 ... 0.         0.         0.        ]\n",
      " [0.         0.67526403 0.         ... 0.         0.         0.        ]\n",
      " ...\n",
      " [0.         0.         0.         ... 0.         0.88647746 0.        ]\n",
      " [0.         0.         0.         ... 0.2987239  0.         0.7012761 ]\n",
      " [0.         0.         0.         ... 0.         1.         0.        ]]\n"
     ]
    }
   ],
   "source": [
    "print(model.K)"
   ]
  },
  {
   "cell_type": "code",
   "execution_count": 99,
   "metadata": {},
   "outputs": [],
   "source": [
    "K = msmtools.estimation.transition_matrix(model._N, reversible=True)"
   ]
  },
  {
   "cell_type": "code",
   "execution_count": 109,
   "metadata": {},
   "outputs": [
    {
     "data": {
      "text/plain": [
       "array([6.47006167e-02, 2.22044605e-16, 9.35299383e-01, ...,\n",
       "       0.00000000e+00, 0.00000000e+00, 0.00000000e+00])"
      ]
     },
     "execution_count": 109,
     "metadata": {},
     "output_type": "execute_result"
    }
   ],
   "source": [
    "K[1,:]"
   ]
  },
  {
   "cell_type": "code",
   "execution_count": 47,
   "metadata": {},
   "outputs": [
    {
     "name": "stdout",
     "output_type": "stream",
     "text": [
      "Mean lifetimes:\n",
      "{0, 1}   :  5.6 ps +/- 0.2 ps\n",
      "{1, 2}   :  8.0 ps +/- 0.1 ps\n",
      "{2, 3}   : 11.8 ps +/- 0.1 ps\n",
      "{3, 4}   :  6.7 ps +/- 0.1 ps\n",
      "{4, 5}   :  5.9 ps +/- 0.2 ps\n",
      "{5, 6}   :  7.3 ps +/- 0.2 ps\n",
      "{6, 7}   :  8.0 ps +/- 0.2 ps\n",
      "{8, 7}   :  7.5 ps +/- 0.2 ps\n",
      "{8, 9}   :  6.8 ps +/- 0.2 ps\n",
      "{9, 10}  :  7.4 ps +/- 0.3 ps\n",
      "{10, 11} :  5.9 ps +/- 0.4 ps\n",
      "{11, 12} :  5.3 ps +/- 0.3 ps\n",
      "{12, 13} :  6.9 ps +/- 0.2 ps\n",
      "{13, 14} :  7.2 ps +/- 0.3 ps\n"
     ]
    }
   ],
   "source": [
    "print('Mean lifetimes:')\n",
    "for milestone, t, err in zip(model.milestones, model.t, model.t_stderr):\n",
    "    print('{:8} : {:4.1f} ps +/- {:.1f} ps'.format(str(milestone), t, err))"
   ]
  },
  {
   "cell_type": "code",
   "execution_count": 48,
   "metadata": {
    "scrolled": false
   },
   "outputs": [
    {
     "data": {
      "application/vnd.jupyter.widget-view+json": {
       "model_id": "5e670ddbb57e424184bc4e0c809604e9",
       "version_major": 2,
       "version_minor": 0
      },
      "text/plain": [
       "Canvas(toolbar=Toolbar(toolitems=[('Home', 'Reset original view', 'home', 'home'), ('Back', 'Back to previous …"
      ]
     },
     "metadata": {},
     "output_type": "display_data"
    }
   ],
   "source": [
    "plt.close(plt.gcf())\n",
    "\n",
    "fig, ax = plt.subplots(nrows=3, ncols=4, sharex=True, sharey=True)\n",
    "\n",
    "for k in range(12):\n",
    "    ax_ = ax[k // 4, k % 4]\n",
    "    ax_.hist(model._lifetimes[k], bins=20, histtype='step', density=True)\n",
    "\n",
    "    tmax = 40\n",
    "    s = np.arange(0, tmax, 0.1)\n",
    "    ax_.plot(s, np.exp(-s / model.t[k]) / model.t[k])\n",
    "\n",
    "    ax_.set_xlim((0, tmax))\n",
    "    \n",
    "    ax_.text(tmax / 2, 0.16, model.milestones[k], horizontalalignment='center')\n",
    "    \n",
    "    if not k % 4:\n",
    "        ax_.set_ylabel('P(t)')\n",
    "    \n",
    "    if k // 4 >= 2:\n",
    "        ax_.set_xlabel('Lifetime (ps)')\n"
   ]
  },
  {
   "cell_type": "code",
   "execution_count": 114,
   "metadata": {
    "scrolled": true
   },
   "outputs": [
    {
     "name": "stdout",
     "output_type": "stream",
     "text": [
      "[0.03579015 0.5531655  0.76618231 ... 0.01928153 0.05721885 0.04012621]\n"
     ]
    }
   ],
   "source": [
    "eigvals, eigvecs = scipy.linalg.eig(model.K, left=True, right=False)\n",
    "q = np.real(eigvecs[:, np.isclose(eigvals, 1)].flatten())\n",
    "if all(q < 0):\n",
    "    q = -q\n",
    "print(q)"
   ]
  },
  {
   "cell_type": "code",
   "execution_count": 117,
   "metadata": {},
   "outputs": [
    {
     "name": "stdout",
     "output_type": "stream",
     "text": [
      "0.035790148869938976 - 0.03579014886993902 = -4.163336342344337e-17\n",
      "0.5173753495748986 - 0.5173753495748984 = 2.220446049250313e-16\n",
      "0.2488069560675115 - 0.24880695606751113 = 3.608224830031759e-16\n",
      "0.027235613280278195 - 0.027235613280277838 = 3.5735303605122226e-16\n",
      "0.015599085884913228 - 0.015599085884912652 = 5.759281940243e-16\n",
      "0.04079119250118869 - 0.04079119250118785 = 8.396061623727746e-16\n",
      "0.051277997051088375 - 0.051277997051087404 = 9.71445146547012e-16\n",
      "0.03461198136885671 - 0.03461198136885585 = 8.604228440844963e-16\n",
      "0.017279689786731226 - 0.017279689786730387 = 8.396061623727746e-16\n",
      "0.007016434547159632 - 0.007016434547158803 = 8.291978215169138e-16\n",
      "0.00218888770060937 - 0.0021888877006086744 = 6.956241138666996e-16\n",
      "0.01709263777975303 - 0.01709263777975256 = 4.718447854656915e-16\n",
      "0.0401262117975162 - 0.04012621179751618 = 2.0816681711721685e-17\n"
     ]
    }
   ],
   "source": [
    "for i in range(len(K) - 1):\n",
    "    j1 = q[i] * model.K[i, i+1]\n",
    "    j2 = q[i+1] * model.K[i+1, i]\n",
    "    print('{} - {} = {}'.format(j1, j2, j1 - j2))"
   ]
  },
  {
   "cell_type": "code",
   "execution_count": 116,
   "metadata": {},
   "outputs": [
    {
     "data": {
      "text/plain": [
       "0.5173753495748984"
      ]
     },
     "execution_count": 116,
     "metadata": {},
     "output_type": "execute_result"
    }
   ],
   "source": [
    "q[2] * model.K[2,1]"
   ]
  },
  {
   "cell_type": "code",
   "execution_count": 113,
   "metadata": {},
   "outputs": [
    {
     "name": "stdout",
     "output_type": "stream",
     "text": [
      "[0.03579015 0.5531655  0.76618231 ... 0.01928153 0.05721885 0.04012621]\n"
     ]
    }
   ],
   "source": [
    "eigvals, eigvecs = scipy.linalg.eig(K, left=True, right=False)\n",
    "q = np.real(eigvecs[:, np.isclose(eigvals, 1)].flatten())\n",
    "if all(q < 0):\n",
    "    q = -q\n",
    "print(q)"
   ]
  },
  {
   "cell_type": "code",
   "execution_count": 118,
   "metadata": {},
   "outputs": [],
   "source": [
    "p = q * model.t"
   ]
  },
  {
   "cell_type": "code",
   "execution_count": 120,
   "metadata": {},
   "outputs": [],
   "source": [
    "Q = np.zeros(K.shape)\n",
    "for a in range(len(Q)):\n",
    "    for b in range(len(Q)):\n",
    "        if b == a:\n",
    "            Q[a, a] = -1 / model.t[a]\n",
    "        else:\n",
    "            Q[a, b] = model.K[a, b] / model.t[a]"
   ]
  },
  {
   "cell_type": "code",
   "execution_count": 50,
   "metadata": {
    "scrolled": false
   },
   "outputs": [
    {
     "data": {
      "application/vnd.jupyter.widget-view+json": {
       "model_id": "edf08189dcd44e50a9e8350a08f830d7",
       "version_major": 2,
       "version_minor": 0
      },
      "text/plain": [
       "Canvas(toolbar=Toolbar(toolitems=[('Home', 'Reset original view', 'home', 'home'), ('Back', 'Back to previous …"
      ]
     },
     "metadata": {},
     "output_type": "display_data"
    }
   ],
   "source": [
    "plt.close(plt.gcf())\n",
    "plt.figure()\n",
    "\n",
    "RT = 0.593 # kcal/mol\n",
    "\n",
    "err = RT * model.t_stderr / model.t\n",
    "p = q * model.t\n",
    "p = p / sum(p)\n",
    "F = -RT * np.log(p)\n",
    "\n",
    "plt.errorbar(range(len(q)), F, yerr=err)\n",
    "plt.ylabel('Free energy (kcal/mol)')\n",
    "_ = plt.xlabel('Milestone index')"
   ]
  },
  {
   "cell_type": "code",
   "execution_count": 51,
   "metadata": {},
   "outputs": [],
   "source": [
    "p_milestone = [0] + list(p) + [0]\n",
    "p_cell = [(p_milestone[i] + p_milestone[i+1]) / 2 for i in range(len(p_milestone)-1)]"
   ]
  },
  {
   "cell_type": "code",
   "execution_count": 52,
   "metadata": {
    "scrolled": false
   },
   "outputs": [
    {
     "data": {
      "application/vnd.jupyter.widget-view+json": {
       "model_id": "d61e600567d045b4900c36f7ec9c3b8f",
       "version_major": 2,
       "version_minor": 0
      },
      "text/plain": [
       "Canvas(toolbar=Toolbar(toolitems=[('Home', 'Reset original view', 'home', 'home'), ('Back', 'Back to previous …"
      ]
     },
     "metadata": {},
     "output_type": "display_data"
    }
   ],
   "source": [
    "plt.figure()\n",
    "\n",
    "widths = [0.5] + [1.] * (len(p_cell) - 2) + [0.5]\n",
    "p = np.divide(p_cell, widths)\n",
    "plt.step(anchors.flatten(), -RT * np.log(p), where='mid')\n",
    "plt.plot(anchors.flatten(), -RT * np.log(p), 'o--', color='grey', alpha=0.5)\n",
    "plt.xlim([14, 28])\n",
    "plt.ylabel('Free energy (kcal/mol)')\n",
    "_ = plt.xlabel('Reaction coordinate ($\\mathrm{\\AA}$)')"
   ]
  },
  {
   "cell_type": "code",
   "execution_count": null,
   "metadata": {
    "scrolled": true
   },
   "outputs": [],
   "source": [
    "fig, ax = plt.subplots(2, 1, sharex=True)\n",
    "\n",
    "widths = [0.5] + [1.] * (len(p_cell) - 2) + [0.5]\n",
    "p = np.divide(p_cell, widths)\n",
    "F = -RT * np.log(p)\n",
    "\n",
    "x = [np.mean([bins[i-1], bins[i]]) for i in range(1, len(bins))]\n",
    "F_emp = -RT * np.log(n)\n",
    "\n",
    "F = F - min(F) + min(F_emp)\n",
    "\n",
    "ax[0].step(anchors.flatten(), F, where='mid')\n",
    "ax[0].plot(anchors.flatten(), F, 'o--', color='grey', alpha=0.5)\n",
    "ax[0].set_xlim([14, 28])\n",
    "ax[0].set_ylim([0, 4])\n",
    "ax[0].set_ylabel('Milestoning')\n",
    "\n",
    "ax[1].plot(x, F_emp)\n",
    "ax[1].set_ylabel('Empirical')\n",
    "ax[1].set_xlabel('Reaction coordinate ($\\mathrm{\\AA}$)')\n",
    "ax[1].set_ylim([0, 4])"
   ]
  },
  {
   "cell_type": "code",
   "execution_count": null,
   "metadata": {},
   "outputs": [],
   "source": [
    "reactant, product = 2, 13\n",
    "\n",
    "# Apply cyclic boundary conditions\n",
    "model.K[product, :] = 0\n",
    "model.K[product, reactant] = 1\n",
    "\n",
    "print(model.K)"
   ]
  },
  {
   "cell_type": "code",
   "execution_count": null,
   "metadata": {},
   "outputs": [],
   "source": [
    "eigvals, eigvecs = scipy.linalg.eig(model.K, left=True, right=False)\n",
    "q_cyc = np.real(eigvecs[:, np.isclose(eigvals, 1)].flatten())\n",
    "if all(q < 0):\n",
    "    q_cyc = -q_cyc\n",
    "print(q_cyc)"
   ]
  },
  {
   "cell_type": "code",
   "execution_count": null,
   "metadata": {},
   "outputs": [],
   "source": [
    "mfpt = np.dot(q_cyc, model.t) / q_cyc[product]\n",
    "s = 'MFPT from milestone {} to milestone {}: {:.2f} ns'\n",
    "print(s.format(model.milestones[reactant], model.milestones[product], mfpt / 1000))"
   ]
  },
  {
   "cell_type": "markdown",
   "metadata": {},
   "source": [
    "Extract first hitting frames for a given milestone:"
   ]
  },
  {
   "cell_type": "code",
   "execution_count": 76,
   "metadata": {},
   "outputs": [],
   "source": [
    "milestone = {9, 10}\n",
    "\n",
    "first_hitting_frames = {traj_id: [] for traj_id in traj_ids}\n",
    "\n",
    "for traj_id, dtraj in zip(traj_ids, model._dtrajs):\n",
    "    in_milestone = False\n",
    "    for frame_index, (i, j) in enumerate(zip(dtraj[:-1], dtraj[1:])):\n",
    "        if j == i:\n",
    "            continue\n",
    "        \n",
    "        if {i, j} != milestone:\n",
    "            in_milestone = False\n",
    "            continue\n",
    "            \n",
    "        if not in_milestone:\n",
    "            first_hitting_frames[traj_id].append(frame_index)\n",
    "        in_milestone = True"
   ]
  },
  {
   "cell_type": "code",
   "execution_count": 77,
   "metadata": {},
   "outputs": [
    {
     "name": "stdout",
     "output_type": "stream",
     "text": [
      "956\n"
     ]
    }
   ],
   "source": [
    "nframes = sum(map(len, first_hitting_frames.values()))\n",
    "print(nframes)"
   ]
  },
  {
   "cell_type": "code",
   "execution_count": 78,
   "metadata": {},
   "outputs": [],
   "source": [
    "import pytraj as pt"
   ]
  },
  {
   "cell_type": "code",
   "execution_count": 79,
   "metadata": {},
   "outputs": [],
   "source": [
    "tn = '/data/p38a-SB2/complex.prmtop'\n",
    "traj = pt.Trajectory(top=tn)\n",
    "for traj_id, frame_indices in first_hitting_frames.items():\n",
    "    if not frame_indices:\n",
    "        continue\n",
    "    fn = '/data/p38a-SB2/short_md/{}/c{}/r{}/mdcrd'.format(*traj_id)\n",
    "    traj.append(pt.load(fn, tn, frame_indices=frame_indices))"
   ]
  },
  {
   "cell_type": "code",
   "execution_count": 80,
   "metadata": {
    "scrolled": false
   },
   "outputs": [
    {
     "data": {
      "text/plain": [
       "pytraj.Trajectory, 956 frames: \n",
       "Size: 0.121286 (GB)\n",
       "<Topology: 5676 atoms, 350 residues, 2 mols, PBC with box type = ortho>\n",
       "           "
      ]
     },
     "execution_count": 80,
     "metadata": {},
     "output_type": "execute_result"
    }
   ],
   "source": [
    "traj"
   ]
  },
  {
   "cell_type": "code",
   "execution_count": 84,
   "metadata": {},
   "outputs": [
    {
     "name": "stdout",
     "output_type": "stream",
     "text": [
      "Saved /home/jefft/milestone_23.5.dcd\n"
     ]
    }
   ],
   "source": [
    "x = '%g' % (sum([anchors[i] for i in milestone]) / 2)\n",
    "fn = '/home/jefft/milestone_{}.dcd'.format(x)\n",
    "pt.save(fn, traj)\n",
    "print('Saved first hitting frames as ' + fn)"
   ]
  },
  {
   "cell_type": "code",
   "execution_count": null,
   "metadata": {},
   "outputs": [],
   "source": []
  }
 ],
 "metadata": {
  "kernelspec": {
   "display_name": "Python 3",
   "language": "python",
   "name": "python3"
  },
  "language_info": {
   "codemirror_mode": {
    "name": "ipython",
    "version": 3
   },
   "file_extension": ".py",
   "mimetype": "text/x-python",
   "name": "python",
   "nbconvert_exporter": "python",
   "pygments_lexer": "ipython3",
   "version": "3.7.7"
  }
 },
 "nbformat": 4,
 "nbformat_minor": 4
}
